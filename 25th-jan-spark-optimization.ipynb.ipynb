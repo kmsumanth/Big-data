{
 "cells": [
  {
   "cell_type": "code",
   "execution_count": 0,
   "metadata": {
    "application/vnd.databricks.v1+cell": {
     "cellMetadata": {
      "byteLimit": 2048000,
      "rowLimit": 10000
     },
     "inputWidgets": {},
     "nuid": "ad47c77a-88ff-43b8-8d6e-01e94a0f0d45",
     "showTitle": false,
     "tableResultSettingsMap": {},
     "title": ""
    }
   },
   "outputs": [],
   "source": [
    "from pyspark.sql import SparkSession\n",
    "from pyspark.sql.functions import col "
   ]
  },
  {
   "cell_type": "code",
   "execution_count": 0,
   "metadata": {
    "application/vnd.databricks.v1+cell": {
     "cellMetadata": {
      "byteLimit": 2048000,
      "rowLimit": 10000
     },
     "inputWidgets": {},
     "nuid": "65e114a2-0048-4143-9c79-ba1571179243",
     "showTitle": false,
     "tableResultSettingsMap": {},
     "title": ""
    }
   },
   "outputs": [],
   "source": [
    "spark = SparkSession.builder.appName(\"this is my first program in spark\").getOrCreate()"
   ]
  },
  {
   "cell_type": "code",
   "execution_count": 0,
   "metadata": {
    "application/vnd.databricks.v1+cell": {
     "cellMetadata": {
      "byteLimit": 2048000,
      "rowLimit": 10000
     },
     "inputWidgets": {},
     "nuid": "05af0c58-81dc-42b7-bda7-d66ca1cd91ca",
     "showTitle": false,
     "tableResultSettingsMap": {},
     "title": ""
    }
   },
   "outputs": [],
   "source": [
    "data = spark.read.csv(\"dbfs:/FileStore/phone_usage_india.csv\",header=True,inferSchema=True)"
   ]
  },
  {
   "cell_type": "code",
   "execution_count": 0,
   "metadata": {
    "application/vnd.databricks.v1+cell": {
     "cellMetadata": {
      "byteLimit": 2048000,
      "rowLimit": 10000
     },
     "inputWidgets": {},
     "nuid": "7243774b-6856-4533-8a54-9261b28a8769",
     "showTitle": false,
     "tableResultSettingsMap": {},
     "title": ""
    }
   },
   "outputs": [
    {
     "output_type": "stream",
     "name": "stdout",
     "output_type": "stream",
     "text": [
      "Out[4]: 10"
     ]
    }
   ],
   "source": [
    "data.select('Location').distinct().count()"
   ]
  },
  {
   "cell_type": "code",
   "execution_count": 0,
   "metadata": {
    "application/vnd.databricks.v1+cell": {
     "cellMetadata": {
      "byteLimit": 2048000,
      "rowLimit": 10000
     },
     "inputWidgets": {},
     "nuid": "213f8e8a-271a-4b03-8315-6c50f51d7b31",
     "showTitle": false,
     "tableResultSettingsMap": {},
     "title": ""
    }
   },
   "outputs": [
    {
     "output_type": "stream",
     "name": "stdout",
     "output_type": "stream",
     "text": [
      "Out[5]: 2"
     ]
    }
   ],
   "source": [
    "data.select('OS').distinct().count()"
   ]
  },
  {
   "cell_type": "code",
   "execution_count": 0,
   "metadata": {
    "application/vnd.databricks.v1+cell": {
     "cellMetadata": {
      "byteLimit": 2048000,
      "rowLimit": 10000
     },
     "inputWidgets": {},
     "nuid": "b82c83da-0a6e-4e04-a678-4bcf3b917925",
     "showTitle": false,
     "tableResultSettingsMap": {},
     "title": ""
    }
   },
   "outputs": [],
   "source": [
    "data.write.partitionBy('Location').parquet(\"dbfs:/FileStore/locationbydata\")"
   ]
  },
  {
   "cell_type": "code",
   "execution_count": 0,
   "metadata": {
    "application/vnd.databricks.v1+cell": {
     "cellMetadata": {
      "byteLimit": 2048000,
      "rowLimit": 10000
     },
     "inputWidgets": {},
     "nuid": "490551ca-bdc5-4cb2-b58d-b34d0ec46358",
     "showTitle": false,
     "tableResultSettingsMap": {},
     "title": ""
    }
   },
   "outputs": [],
   "source": [
    "data.write.partitionBy('OS').parquet(\"dbfs:/FileStore/OS_based_data\")"
   ]
  },
  {
   "cell_type": "code",
   "execution_count": 0,
   "metadata": {
    "application/vnd.databricks.v1+cell": {
     "cellMetadata": {
      "byteLimit": 2048000,
      "rowLimit": 10000
     },
     "inputWidgets": {},
     "nuid": "ef8a3e6d-26d8-4e35-84eb-2c1c096d6208",
     "showTitle": false,
     "tableResultSettingsMap": {},
     "title": ""
    }
   },
   "outputs": [],
   "source": [
    "data = spark.read.parquet('dbfs:/FileStore/locationbydata')"
   ]
  },
  {
   "cell_type": "code",
   "execution_count": 0,
   "metadata": {
    "application/vnd.databricks.v1+cell": {
     "cellMetadata": {
      "byteLimit": 2048000,
      "rowLimit": 10000
     },
     "inputWidgets": {},
     "nuid": "d0f4e470-fc83-4aed-817f-e21f1f07685e",
     "showTitle": false,
     "tableResultSettingsMap": {},
     "title": ""
    }
   },
   "outputs": [
    {
     "output_type": "stream",
     "name": "stdout",
     "output_type": "stream",
     "text": [
      "+-------+---+------+------------+-------+---------------------+---------------------+-------------------------+------------------------+---------------------------+----------------------------+------------------------+---------------------+---------------------------+-------------+--------+\n|User ID|Age|Gender| Phone Brand|     OS|Screen Time (hrs/day)|Data Usage (GB/month)|Calls Duration (mins/day)|Number of Apps Installed|Social Media Time (hrs/day)|E-commerce Spend (INR/month)|Streaming Time (hrs/day)|Gaming Time (hrs/day)|Monthly Recharge Cost (INR)|  Primary Use|Location|\n+-------+---+------+------------+-------+---------------------+---------------------+-------------------------+------------------------+---------------------------+----------------------------+------------------------+---------------------+---------------------------+-------------+--------+\n| U00001| 53|  Male|        Vivo|Android|                  3.7|                 23.9|                     37.9|                     104|                        3.9|                         469|                     5.2|                  4.1|                        803|    Education|  Mumbai|\n| U00005| 16|  Male|      Xiaomi|    iOS|                  2.2|                  2.5|                    236.2|                      86|                        5.5|                         106|                     3.4|                  2.3|                        742| Social Media|  Mumbai|\n| U00017| 46| Other|       Apple|Android|                  3.1|                 23.6|                    153.9|                     183|                        2.5|                        6242|                     6.2|                  0.4|                       1679|    Education|  Mumbai|\n| U00045| 42| Other|Google Pixel|    iOS|                  4.2|                  3.4|                    171.6|                     108|                        3.3|                        5178|                     1.3|                  4.8|                        322|    Education|  Mumbai|\n| U00047| 51| Other|     Samsung|    iOS|                 10.7|                 17.6|                    293.4|                      65|                        5.2|                        3313|                     1.8|                  1.3|                       1319|    Education|  Mumbai|\n| U00055| 32| Other|        Vivo|    iOS|                  5.8|                 27.5|                     30.0|                     193|                        4.0|                         948|                     5.6|                  4.6|                        122| Social Media|  Mumbai|\n| U00098| 22|  Male|Google Pixel|Android|                  8.0|                 12.9|                     82.9|                     113|                        3.9|                        2936|                     4.7|                  0.0|                        443|         Work|  Mumbai|\n| U00103| 15| Other|      Realme|    iOS|                 10.5|                 39.3|                     77.1|                     137|                        2.2|                        8230|                     3.1|                  3.1|                        687|         Work|  Mumbai|\n| U00120| 31| Other|      Realme|    iOS|                  7.5|                 29.2|                    259.3|                     141|                        4.5|                        1991|                     1.3|                  1.1|                       1936|         Work|  Mumbai|\n| U00123| 46| Other|     Samsung|    iOS|                  5.9|                 38.1|                    144.6|                     186|                        2.1|                         684|                     4.5|                  1.2|                       1562| Social Media|  Mumbai|\n| U00128| 21|  Male|        Oppo|    iOS|                  6.5|                  1.5|                    115.0|                     196|                        2.1|                        1824|                     1.8|                  1.8|                        727|Entertainment|  Mumbai|\n| U00146| 45|  Male|        Vivo|    iOS|                  6.7|                 26.1|                    137.5|                     137|                        4.9|                        8216|                     5.6|                  1.3|                        306| Social Media|  Mumbai|\n| U00162| 34| Other|      Realme|    iOS|                  9.4|                  9.7|                     96.8|                      19|                        4.0|                        7564|                     3.2|                  2.1|                       1003|         Work|  Mumbai|\n| U00163| 58| Other|       Apple|    iOS|                  7.1|                 43.3|                    248.5|                      57|                        2.6|                        8474|                     2.0|                  0.9|                        160|       Gaming|  Mumbai|\n| U00171| 47|  Male|       Nokia|    iOS|                  8.7|                 25.7|                    196.5|                      14|                        5.3|                        2252|                     4.6|                  3.7|                        757|    Education|  Mumbai|\n| U00174| 19| Other|      Xiaomi|Android|                 11.7|                  6.2|                     81.7|                      20|                        3.3|                        3667|                     6.1|                  4.2|                        722| Social Media|  Mumbai|\n| U00180| 30|  Male|      Realme|Android|                  5.8|                 15.2|                    116.0|                      10|                        2.5|                        1605|                     4.7|                  0.2|                        897|Entertainment|  Mumbai|\n| U00187| 42|Female|      Realme|Android|                 10.2|                 21.4|                    296.3|                     175|                        1.1|                        2252|                     3.4|                  1.1|                        716|         Work|  Mumbai|\n| U00195| 53| Other|Google Pixel|Android|                  3.3|                 43.2|                    102.8|                     140|                        1.3|                        1248|                     3.5|                  0.0|                        846| Social Media|  Mumbai|\n| U00201| 17| Other|     OnePlus|Android|                  4.1|                 20.9|                     29.9|                     161|                        5.0|                        3385|                     7.8|                  2.3|                       1139|    Education|  Mumbai|\n+-------+---+------+------------+-------+---------------------+---------------------+-------------------------+------------------------+---------------------------+----------------------------+------------------------+---------------------+---------------------------+-------------+--------+\nonly showing top 20 rows\n\n"
     ]
    }
   ],
   "source": [
    "data.filter(data['Location'] == \"Mumbai\").show()"
   ]
  },
  {
   "cell_type": "code",
   "execution_count": 0,
   "metadata": {
    "application/vnd.databricks.v1+cell": {
     "cellMetadata": {
      "byteLimit": 2048000,
      "rowLimit": 10000
     },
     "inputWidgets": {},
     "nuid": "b1dbbca3-9f4e-4bce-9788-0f1c6373d8c9",
     "showTitle": false,
     "tableResultSettingsMap": {},
     "title": ""
    }
   },
   "outputs": [
    {
     "output_type": "stream",
     "name": "stdout",
     "output_type": "stream",
     "text": [
      "+--------+--------------------------+\n|Location|avg(Screen Time (hrs/day))|\n+--------+--------------------------+\n|  Mumbai|        6.4210220673635305|\n+--------+--------------------------+\n\n"
     ]
    }
   ],
   "source": [
    "data.filter(data['Location'] == \"Mumbai\").groupBy('Location').agg({\"Screen Time (hrs/day)\":\"avg\"}).show()"
   ]
  },
  {
   "cell_type": "code",
   "execution_count": 0,
   "metadata": {
    "application/vnd.databricks.v1+cell": {
     "cellMetadata": {
      "byteLimit": 2048000,
      "rowLimit": 10000
     },
     "inputWidgets": {},
     "nuid": "d1d4f426-bf86-4e65-a720-0290a28e3587",
     "showTitle": false,
     "tableResultSettingsMap": {},
     "title": ""
    }
   },
   "outputs": [],
   "source": [
    "from pyspark.sql.functions import broadcast"
   ]
  },
  {
   "cell_type": "code",
   "execution_count": 0,
   "metadata": {
    "application/vnd.databricks.v1+cell": {
     "cellMetadata": {
      "byteLimit": 2048000,
      "rowLimit": 10000
     },
     "inputWidgets": {},
     "nuid": "2723e604-9f20-4374-a0b7-b41852894198",
     "showTitle": false,
     "tableResultSettingsMap": {},
     "title": ""
    }
   },
   "outputs": [],
   "source": [
    "data = spark.read.csv(\"dbfs:/FileStore/phone_usage_india.csv\",header=True,inferSchema=True)"
   ]
  },
  {
   "cell_type": "code",
   "execution_count": 0,
   "metadata": {
    "application/vnd.databricks.v1+cell": {
     "cellMetadata": {
      "byteLimit": 2048000,
      "rowLimit": 10000
     },
     "inputWidgets": {},
     "nuid": "13f278ad-5e2d-4442-8fa3-6d047cf15570",
     "showTitle": false,
     "tableResultSettingsMap": {},
     "title": ""
    }
   },
   "outputs": [],
   "source": [
    "data1 = spark.read.csv(\"dbfs:/FileStore/phone_usage_india.csv\",header=True,inferSchema=True)\n",
    "data1 = data1.withColumnRenamed(\"Screen Time (hrs/day)\",'Screen Time')\n",
    "data1 = data1.withColumnRenamed(\"Location\",'location1')"
   ]
  },
  {
   "cell_type": "code",
   "execution_count": 0,
   "metadata": {
    "application/vnd.databricks.v1+cell": {
     "cellMetadata": {
      "byteLimit": 2048000,
      "rowLimit": 10000
     },
     "inputWidgets": {},
     "nuid": "d47a9f79-1321-487e-a4bb-8a8749b87f46",
     "showTitle": false,
     "tableResultSettingsMap": {},
     "title": ""
    }
   },
   "outputs": [
    {
     "output_type": "stream",
     "name": "stdout",
     "output_type": "stream",
     "text": [
      "+-------+---+------+--------+-----------+-------+---------------------+---------------------+-------------------------+------------------------+---------------------------+----------------------------+------------------------+---------------------+---------------------------+-----------+-------+---+------+---------+-----------+-------+-----------+---------------------+-------------------------+------------------------+---------------------------+----------------------------+------------------------+---------------------+---------------------------+-------------+\n|User ID|Age|Gender|Location|Phone Brand|     OS|Screen Time (hrs/day)|Data Usage (GB/month)|Calls Duration (mins/day)|Number of Apps Installed|Social Media Time (hrs/day)|E-commerce Spend (INR/month)|Streaming Time (hrs/day)|Gaming Time (hrs/day)|Monthly Recharge Cost (INR)|Primary Use|User ID|Age|Gender|location1|Phone Brand|     OS|Screen Time|Data Usage (GB/month)|Calls Duration (mins/day)|Number of Apps Installed|Social Media Time (hrs/day)|E-commerce Spend (INR/month)|Streaming Time (hrs/day)|Gaming Time (hrs/day)|Monthly Recharge Cost (INR)|  Primary Use|\n+-------+---+------+--------+-----------+-------+---------------------+---------------------+-------------------------+------------------------+---------------------------+----------------------------+------------------------+---------------------+---------------------------+-----------+-------+---+------+---------+-----------+-------+-----------+---------------------+-------------------------+------------------------+---------------------------+----------------------------+------------------------+---------------------+---------------------------+-------------+\n| U00001| 53|  Male|  Mumbai|       Vivo|Android|                  3.7|                 23.9|                     37.9|                     104|                        3.9|                         469|                     5.2|                  4.1|                        803|  Education| U17685| 22|  Male|Hyderabad|       Vivo|Android|        8.8|                 25.6|                    105.6|                      96|                        2.4|                        3614|                     6.6|                  0.8|                       1528|         Work|\n| U00001| 53|  Male|  Mumbai|       Vivo|Android|                  3.7|                 23.9|                     37.9|                     104|                        3.9|                         469|                     5.2|                  4.1|                        803|  Education| U17675| 34|  Male|Hyderabad|       Vivo|Android|        1.1|                 15.3|                    267.4|                      19|                        5.4|                        8216|                     6.5|                  4.3|                        671|Entertainment|\n| U00001| 53|  Male|  Mumbai|       Vivo|Android|                  3.7|                 23.9|                     37.9|                     104|                        3.9|                         469|                     5.2|                  4.1|                        803|  Education| U17666| 32|Female|Bangalore|       Vivo|    iOS|        2.0|                 48.9|                    273.0|                      77|                        2.6|                        8803|                     4.9|                  1.5|                        407|Entertainment|\n| U00001| 53|  Male|  Mumbai|       Vivo|Android|                  3.7|                 23.9|                     37.9|                     104|                        3.9|                         469|                     5.2|                  4.1|                        803|  Education| U17636| 37|  Male|     Pune|       Vivo|Android|        8.6|                 20.5|                     19.5|                      63|                        2.3|                        5299|                     1.3|                  3.8|                       1616|       Gaming|\n| U00001| 53|  Male|  Mumbai|       Vivo|Android|                  3.7|                 23.9|                     37.9|                     104|                        3.9|                         469|                     5.2|                  4.1|                        803|  Education| U17629| 21|Female|  Lucknow|       Vivo|Android|        1.8|                 12.0|                     38.1|                      50|                        4.3|                        6686|                     3.5|                  5.0|                        183|         Work|\n| U00001| 53|  Male|  Mumbai|       Vivo|Android|                  3.7|                 23.9|                     37.9|                     104|                        3.9|                         469|                     5.2|                  4.1|                        803|  Education| U17627| 31|  Male|Hyderabad|       Vivo|Android|       11.3|                 11.3|                    278.2|                     158|                        3.8|                        4830|                     1.7|                  2.5|                       1233| Social Media|\n| U00001| 53|  Male|  Mumbai|       Vivo|Android|                  3.7|                 23.9|                     37.9|                     104|                        3.9|                         469|                     5.2|                  4.1|                        803|  Education| U17617| 29| Other|     Pune|       Vivo|    iOS|        4.3|                 25.1|                    153.1|                      27|                        5.6|                        9797|                     7.9|                  1.4|                       1558| Social Media|\n| U00001| 53|  Male|  Mumbai|       Vivo|Android|                  3.7|                 23.9|                     37.9|                     104|                        3.9|                         469|                     5.2|                  4.1|                        803|  Education| U17603| 31|Female|     Pune|       Vivo|Android|        6.0|                 46.6|                     83.3|                      60|                        3.2|                        3124|                     7.6|                  3.4|                        856| Social Media|\n| U00001| 53|  Male|  Mumbai|       Vivo|Android|                  3.7|                 23.9|                     37.9|                     104|                        3.9|                         469|                     5.2|                  4.1|                        803|  Education| U17592| 25|  Male|     Pune|       Vivo|Android|        4.5|                 31.5|                     74.8|                      61|                        2.9|                        1826|                     5.1|                  2.0|                        847|    Education|\n| U00001| 53|  Male|  Mumbai|       Vivo|Android|                  3.7|                 23.9|                     37.9|                     104|                        3.9|                         469|                     5.2|                  4.1|                        803|  Education| U17582| 26| Other|Bangalore|       Vivo|Android|        9.0|                 20.4|                    102.7|                      42|                        2.5|                        5358|                     3.3|                  1.6|                       1894|    Education|\n| U00001| 53|  Male|  Mumbai|       Vivo|Android|                  3.7|                 23.9|                     37.9|                     104|                        3.9|                         469|                     5.2|                  4.1|                        803|  Education| U17560| 57|  Male|     Pune|       Vivo|Android|        9.3|                 41.0|                    248.9|                      30|                        1.4|                        7498|                     1.2|                  4.0|                       1732|Entertainment|\n| U00001| 53|  Male|  Mumbai|       Vivo|Android|                  3.7|                 23.9|                     37.9|                     104|                        3.9|                         469|                     5.2|                  4.1|                        803|  Education| U17545| 33| Other|  Lucknow|       Vivo|    iOS|        5.8|                 49.2|                     46.7|                      82|                        4.2|                        9379|                     7.5|                  2.9|                        258|         Work|\n| U00001| 53|  Male|  Mumbai|       Vivo|Android|                  3.7|                 23.9|                     37.9|                     104|                        3.9|                         469|                     5.2|                  4.1|                        803|  Education| U17543| 30| Other|   Mumbai|       Vivo|    iOS|        8.1|                 42.2|                     62.5|                     140|                        5.8|                        3320|                     5.3|                  2.0|                        709|    Education|\n| U00001| 53|  Male|  Mumbai|       Vivo|Android|                  3.7|                 23.9|                     37.9|                     104|                        3.9|                         469|                     5.2|                  4.1|                        803|  Education| U17534| 31| Other|   Mumbai|       Vivo|Android|        8.2|                 22.0|                    129.6|                     130|                        5.0|                        3911|                     4.6|                  2.7|                       1518|Entertainment|\n| U00001| 53|  Male|  Mumbai|       Vivo|Android|                  3.7|                 23.9|                     37.9|                     104|                        3.9|                         469|                     5.2|                  4.1|                        803|  Education| U17526| 38|Female|     Pune|       Vivo|    iOS|        7.7|                 38.3|                    280.4|                     132|                        2.7|                        2362|                     3.8|                  0.8|                        131|       Gaming|\n| U00001| 53|  Male|  Mumbai|       Vivo|Android|                  3.7|                 23.9|                     37.9|                     104|                        3.9|                         469|                     5.2|                  4.1|                        803|  Education| U17508| 50| Other|   Jaipur|       Vivo|Android|        5.4|                 49.7|                    202.4|                     131|                        2.8|                        2608|                     4.7|                  1.8|                        704|       Gaming|\n| U00001| 53|  Male|  Mumbai|       Vivo|Android|                  3.7|                 23.9|                     37.9|                     104|                        3.9|                         469|                     5.2|                  4.1|                        803|  Education| U17484| 17| Other|Hyderabad|       Vivo|    iOS|        5.2|                 35.8|                     19.6|                     105|                        4.0|                         468|                     5.7|                  3.5|                        345|         Work|\n| U00001| 53|  Male|  Mumbai|       Vivo|Android|                  3.7|                 23.9|                     37.9|                     104|                        3.9|                         469|                     5.2|                  4.1|                        803|  Education| U17461| 56|Female|Ahmedabad|       Vivo|Android|       11.1|                 39.2|                    124.7|                     165|                        3.0|                        5743|                     5.5|                  2.1|                        223| Social Media|\n| U00001| 53|  Male|  Mumbai|       Vivo|Android|                  3.7|                 23.9|                     37.9|                     104|                        3.9|                         469|                     5.2|                  4.1|                        803|  Education| U17448| 35|Female|    Delhi|       Vivo|Android|        8.3|                 17.7|                    201.0|                      93|                        1.5|                        8347|                     2.5|                  4.9|                       1760| Social Media|\n| U00001| 53|  Male|  Mumbai|       Vivo|Android|                  3.7|                 23.9|                     37.9|                     104|                        3.9|                         469|                     5.2|                  4.1|                        803|  Education| U17441| 26| Other|Bangalore|       Vivo|Android|        6.1|                 12.1|                    174.3|                     151|                        4.5|                        5428|                     3.6|                  1.8|                        318|       Gaming|\n+-------+---+------+--------+-----------+-------+---------------------+---------------------+-------------------------+------------------------+---------------------------+----------------------------+------------------------+---------------------+---------------------------+-----------+-------+---+------+---------+-----------+-------+-----------+---------------------+-------------------------+------------------------+---------------------------+----------------------------+------------------------+---------------------+---------------------------+-------------+\nonly showing top 20 rows\n\n"
     ]
    }
   ],
   "source": [
    "data.join(broadcast(data1),data['Phone Brand'] == data1['Phone Brand'],\"inner\").show()"
   ]
  },
  {
   "cell_type": "code",
   "execution_count": 0,
   "metadata": {
    "application/vnd.databricks.v1+cell": {
     "cellMetadata": {
      "byteLimit": 2048000,
      "rowLimit": 10000
     },
     "inputWidgets": {},
     "nuid": "c4d8c86c-0e94-4eca-bc93-3887297943b3",
     "showTitle": false,
     "tableResultSettingsMap": {},
     "title": ""
    }
   },
   "outputs": [],
   "source": [
    "data_joinied = data.join(broadcast(data1),data['Phone Brand'] == data1['Phone Brand'],\"inner\")"
   ]
  },
  {
   "cell_type": "code",
   "execution_count": 0,
   "metadata": {
    "application/vnd.databricks.v1+cell": {
     "cellMetadata": {
      "byteLimit": 2048000,
      "rowLimit": 10000
     },
     "inputWidgets": {},
     "nuid": "266e0468-ff29-4254-9816-a7f3b73d33fa",
     "showTitle": false,
     "tableResultSettingsMap": {},
     "title": ""
    }
   },
   "outputs": [
    {
     "output_type": "stream",
     "name": "stdout",
     "output_type": "stream",
     "text": [
      "+---------+--------------------------+\n| Location|avg(Screen Time (hrs/day))|\n+---------+--------------------------+\n|Bangalore|         6.575263746695015|\n|  Lucknow|          6.57994686386275|\n|  Chennai|         6.529346644202747|\n|   Mumbai|         6.421639501550293|\n|Ahmedabad|         6.563978713538523|\n|  Kolkata|         6.412582819510596|\n|     Pune|        6.6679595900518045|\n|    Delhi|         6.469169119614471|\n|Hyderabad|         6.593114127383831|\n|   Jaipur|         6.654786788313208|\n+---------+--------------------------+\n\n"
     ]
    }
   ],
   "source": [
    "data_joinied.groupBy('Location').agg({\"Screen Time (hrs/day)\":\"avg\"}).show()"
   ]
  },
  {
   "cell_type": "code",
   "execution_count": 0,
   "metadata": {
    "application/vnd.databricks.v1+cell": {
     "cellMetadata": {
      "byteLimit": 2048000,
      "rowLimit": 10000
     },
     "inputWidgets": {},
     "nuid": "65f73a78-91a9-4b8c-86bf-46d170c06333",
     "showTitle": false,
     "tableResultSettingsMap": {},
     "title": ""
    }
   },
   "outputs": [
    {
     "output_type": "stream",
     "name": "stdout",
     "output_type": "stream",
     "text": [
      "Out[42]: ['User ID',\n 'Age',\n 'Gender',\n 'Location',\n 'Phone Brand',\n 'OS',\n 'Screen Time (hrs/day)',\n 'Data Usage (GB/month)',\n 'Calls Duration (mins/day)',\n 'Number of Apps Installed',\n 'Social Media Time (hrs/day)',\n 'E-commerce Spend (INR/month)',\n 'Streaming Time (hrs/day)',\n 'Gaming Time (hrs/day)',\n 'Monthly Recharge Cost (INR)',\n 'Primary Use',\n 'User ID',\n 'Age',\n 'Gender',\n 'location1',\n 'Phone Brand',\n 'OS',\n 'Screen Time',\n 'Data Usage (GB/month)',\n 'Calls Duration (mins/day)',\n 'Number of Apps Installed',\n 'Social Media Time (hrs/day)',\n 'E-commerce Spend (INR/month)',\n 'Streaming Time (hrs/day)',\n 'Gaming Time (hrs/day)',\n 'Monthly Recharge Cost (INR)',\n 'Primary Use']"
     ]
    }
   ],
   "source": [
    "data_joinied.columns"
   ]
  },
  {
   "cell_type": "code",
   "execution_count": 0,
   "metadata": {
    "application/vnd.databricks.v1+cell": {
     "cellMetadata": {
      "byteLimit": 2048000,
      "rowLimit": 10000
     },
     "inputWidgets": {},
     "nuid": "c899b907-0af1-484e-b45e-35e760fafd45",
     "showTitle": false,
     "tableResultSettingsMap": {},
     "title": ""
    }
   },
   "outputs": [
    {
     "output_type": "stream",
     "name": "stdout",
     "output_type": "stream",
     "text": [
      "+-------+---+------+---------+------------+-------+---------------------+---------------------+-------------------------+------------------------+---------------------------+----------------------------+------------------------+---------------------+---------------------------+-------------+\n|User ID|Age|Gender| Location| Phone Brand|     OS|Screen Time (hrs/day)|Data Usage (GB/month)|Calls Duration (mins/day)|Number of Apps Installed|Social Media Time (hrs/day)|E-commerce Spend (INR/month)|Streaming Time (hrs/day)|Gaming Time (hrs/day)|Monthly Recharge Cost (INR)|  Primary Use|\n+-------+---+------+---------+------------+-------+---------------------+---------------------+-------------------------+------------------------+---------------------------+----------------------------+------------------------+---------------------+---------------------------+-------------+\n| U00001| 53|  Male|   Mumbai|        Vivo|Android|                  3.7|                 23.9|                     37.9|                     104|                        3.9|                         469|                     5.2|                  4.1|                        803|    Education|\n| U00002| 60| Other|    Delhi|      Realme|    iOS|                  9.2|                 28.1|                     13.7|                     169|                        2.8|                        4997|                     5.1|                  0.4|                       1526|       Gaming|\n| U00003| 37|Female|Ahmedabad|       Nokia|Android|                  4.5|                 12.3|                     66.8|                      96|                        3.0|                        2381|                     1.7|                  2.9|                       1619|Entertainment|\n| U00004| 32|  Male|     Pune|     Samsung|Android|                 11.0|                 25.6|                    156.2|                     146|                        5.2|                        1185|                     3.2|                  0.3|                       1560|Entertainment|\n| U00005| 16|  Male|   Mumbai|      Xiaomi|    iOS|                  2.2|                  2.5|                    236.2|                      86|                        5.5|                         106|                     3.4|                  2.3|                        742| Social Media|\n| U00006| 21|  Male|   Jaipur|        Oppo|    iOS|                  5.4|                 10.6|                    210.6|                      25|                        4.2|                        6285|                     0.6|                  4.8|                       1749|Entertainment|\n| U00007| 57|Female|  Lucknow|       Apple|    iOS|                  6.0|                 35.2|                    154.5|                     123|                        0.8|                        2653|                     2.9|                  2.3|                       1073| Social Media|\n| U00008| 56| Other|  Kolkata|      Realme|    iOS|                  3.1|                 43.5|                    125.3|                     188|                        2.3|                        9767|                     5.2|                  5.0|                       1136|Entertainment|\n| U00009| 46|Female|  Kolkata|        Oppo|Android|                  5.3|                 46.4|                     21.3|                     194|                        3.7|                        2870|                     6.1|                  2.8|                       1253|Entertainment|\n| U00010| 44| Other|  Kolkata|       Apple|    iOS|                  9.9|                 10.6|                    180.2|                      84|                        4.8|                        9193|                     7.6|                  0.4|                        168|    Education|\n| U00011| 55| Other|  Lucknow|       Nokia|Android|                  1.6|                 23.7|                    192.0|                      27|                        3.1|                        9330|                     1.2|                  2.3|                       1098|         Work|\n| U00012| 41|Female|    Delhi|        Oppo|Android|                  7.5|                 23.5|                     84.9|                     187|                        0.9|                         643|                     3.5|                  2.7|                        151| Social Media|\n| U00013| 53|  Male|Bangalore|      Realme|    iOS|                 10.5|                  1.4|                     33.7|                     137|                        4.5|                        7854|                     7.2|                  1.4|                        240|    Education|\n| U00014| 35|  Male|   Jaipur|      Realme|Android|                 10.3|                 32.4|                    247.1|                     124|                        5.2|                        3347|                     3.8|                  4.5|                        972| Social Media|\n| U00015| 33|Female|   Jaipur|     Samsung|    iOS|                  1.7|                 33.2|                    208.8|                     121|                        3.0|                        3185|                     4.2|                  0.5|                       1046|Entertainment|\n| U00016| 52|  Male|Bangalore|Google Pixel|Android|                  5.1|                 28.5|                    169.2|                     161|                        4.6|                        6175|                     4.4|                  4.3|                       1769|         Work|\n| U00017| 46| Other|   Mumbai|       Apple|Android|                  3.1|                 23.6|                    153.9|                     183|                        2.5|                        6242|                     6.2|                  0.4|                       1679|    Education|\n| U00018| 54|  Male|  Kolkata|       Apple|Android|                 11.6|                 12.6|                    210.4|                      62|                        4.9|                        4642|                     0.9|                  4.1|                       1360|Entertainment|\n| U00019| 50|Female|  Chennai|Google Pixel|Android|                  5.3|                  5.2|                    235.6|                     188|                        4.6|                        1120|                     1.0|                  0.8|                       1639|         Work|\n| U00020| 40| Other|Hyderabad|    Motorola|    iOS|                  9.0|                 38.9|                    289.6|                      62|                        2.4|                        8012|                     7.7|                  2.0|                       1224|         Work|\n+-------+---+------+---------+------------+-------+---------------------+---------------------+-------------------------+------------------------+---------------------------+----------------------------+------------------------+---------------------+---------------------------+-------------+\nonly showing top 20 rows\n\n"
     ]
    }
   ],
   "source": [
    "data.show()"
   ]
  },
  {
   "cell_type": "code",
   "execution_count": 0,
   "metadata": {
    "application/vnd.databricks.v1+cell": {
     "cellMetadata": {
      "byteLimit": 2048000,
      "rowLimit": 10000
     },
     "inputWidgets": {},
     "nuid": "282ea0e8-0b25-4205-95df-fc2bfbfb348c",
     "showTitle": false,
     "tableResultSettingsMap": {},
     "title": ""
    }
   },
   "outputs": [],
   "source": [
    "data = spark.read.csv(\"dbfs:/FileStore/phone_usage_india.csv\",header=True,inferSchema=True).select(\"Gender\",\"Screen Time (hrs/day)\",\"Social Media Time (hrs/day)\")"
   ]
  },
  {
   "cell_type": "code",
   "execution_count": 0,
   "metadata": {
    "application/vnd.databricks.v1+cell": {
     "cellMetadata": {
      "byteLimit": 2048000,
      "rowLimit": 10000
     },
     "inputWidgets": {},
     "nuid": "335dea70-698e-487e-82c3-1ce0654631a7",
     "showTitle": false,
     "tableResultSettingsMap": {},
     "title": ""
    }
   },
   "outputs": [
    {
     "output_type": "stream",
     "name": "stdout",
     "output_type": "stream",
     "text": [
      "+------+---------------------+---------------------------+\n|Gender|Screen Time (hrs/day)|Social Media Time (hrs/day)|\n+------+---------------------+---------------------------+\n|  Male|                  3.7|                        3.9|\n| Other|                  9.2|                        2.8|\n|Female|                  4.5|                        3.0|\n|  Male|                 11.0|                        5.2|\n|  Male|                  2.2|                        5.5|\n|  Male|                  5.4|                        4.2|\n|Female|                  6.0|                        0.8|\n| Other|                  3.1|                        2.3|\n|Female|                  5.3|                        3.7|\n| Other|                  9.9|                        4.8|\n| Other|                  1.6|                        3.1|\n|Female|                  7.5|                        0.9|\n|  Male|                 10.5|                        4.5|\n|  Male|                 10.3|                        5.2|\n|Female|                  1.7|                        3.0|\n|  Male|                  5.1|                        4.6|\n| Other|                  3.1|                        2.5|\n|  Male|                 11.6|                        4.9|\n|Female|                  5.3|                        4.6|\n| Other|                  9.0|                        2.4|\n+------+---------------------+---------------------------+\nonly showing top 20 rows\n\n"
     ]
    }
   ],
   "source": [
    "data.show()"
   ]
  },
  {
   "cell_type": "code",
   "execution_count": 0,
   "metadata": {
    "application/vnd.databricks.v1+cell": {
     "cellMetadata": {
      "byteLimit": 2048000,
      "rowLimit": 10000
     },
     "inputWidgets": {},
     "nuid": "f65ddbaf-5e74-40a3-9fbe-dfad13f9fb50",
     "showTitle": false,
     "tableResultSettingsMap": {},
     "title": ""
    }
   },
   "outputs": [
    {
     "output_type": "stream",
     "name": "stdout",
     "output_type": "stream",
     "text": [
      "== Parsed Logical Plan ==\n'Project ['Gender, 'Screen Time (hrs/day), 'Social Media Time (hrs/day)]\n+- Relation [User ID#3033,Age#3034,Gender#3035,Location#3036,Phone Brand#3037,OS#3038,Screen Time (hrs/day)#3039,Data Usage (GB/month)#3040,Calls Duration (mins/day)#3041,Number of Apps Installed#3042,Social Media Time (hrs/day)#3043,E-commerce Spend (INR/month)#3044,Streaming Time (hrs/day)#3045,Gaming Time (hrs/day)#3046,Monthly Recharge Cost (INR)#3047,Primary Use#3048] csv\n\n== Analyzed Logical Plan ==\nGender: string, Screen Time (hrs/day): double, Social Media Time (hrs/day): double\nProject [Gender#3035, Screen Time (hrs/day)#3039, Social Media Time (hrs/day)#3043]\n+- Relation [User ID#3033,Age#3034,Gender#3035,Location#3036,Phone Brand#3037,OS#3038,Screen Time (hrs/day)#3039,Data Usage (GB/month)#3040,Calls Duration (mins/day)#3041,Number of Apps Installed#3042,Social Media Time (hrs/day)#3043,E-commerce Spend (INR/month)#3044,Streaming Time (hrs/day)#3045,Gaming Time (hrs/day)#3046,Monthly Recharge Cost (INR)#3047,Primary Use#3048] csv\n\n== Optimized Logical Plan ==\nProject [Gender#3035, Screen Time (hrs/day)#3039, Social Media Time (hrs/day)#3043]\n+- Relation [User ID#3033,Age#3034,Gender#3035,Location#3036,Phone Brand#3037,OS#3038,Screen Time (hrs/day)#3039,Data Usage (GB/month)#3040,Calls Duration (mins/day)#3041,Number of Apps Installed#3042,Social Media Time (hrs/day)#3043,E-commerce Spend (INR/month)#3044,Streaming Time (hrs/day)#3045,Gaming Time (hrs/day)#3046,Monthly Recharge Cost (INR)#3047,Primary Use#3048] csv\n\n== Physical Plan ==\nFileScan csv [Gender#3035,Screen Time (hrs/day)#3039,Social Media Time (hrs/day)#3043] Batched: false, DataFilters: [], Format: CSV, Location: InMemoryFileIndex(1 paths)[dbfs:/FileStore/phone_usage_india.csv], PartitionFilters: [], PushedFilters: [], ReadSchema: struct<Gender:string,Screen Time (hrs/day):double,Social Media Time (hrs/day):double>\n\n"
     ]
    }
   ],
   "source": [
    "data.explain(True)"
   ]
  }
 ],
 "metadata": {
  "application/vnd.databricks.v1+notebook": {
   "computePreferences": null,
   "dashboards": [],
   "environmentMetadata": {
    "base_environment": "",
    "client": "1"
   },
   "language": "python",
   "notebookMetadata": {
    "pythonIndentUnit": 4
   },
   "notebookName": "25th_jan_spark_optimization",
   "widgets": {}
  }
 },
 "nbformat": 4,
 "nbformat_minor": 0
}
