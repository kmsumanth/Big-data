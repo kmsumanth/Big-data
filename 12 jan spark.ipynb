{
 "cells": [
  {
   "cell_type": "code",
   "execution_count": 0,
   "metadata": {
    "application/vnd.databricks.v1+cell": {
     "cellMetadata": {
      "byteLimit": 2048000,
      "rowLimit": 10000
     },
     "inputWidgets": {},
     "nuid": "3c7997ee-44a3-49a4-b879-aacc0064e044",
     "showTitle": false,
     "tableResultSettingsMap": {},
     "title": ""
    }
   },
   "outputs": [
    {
     "output_type": "stream",
     "name": "stdout",
     "output_type": "stream",
     "text": [
      "kernel working\n"
     ]
    }
   ],
   "source": [
    "print(\"kernel working\")"
   ]
  },
  {
   "cell_type": "code",
   "execution_count": 0,
   "metadata": {
    "application/vnd.databricks.v1+cell": {
     "cellMetadata": {
      "byteLimit": 2048000,
      "rowLimit": 10000
     },
     "inputWidgets": {},
     "nuid": "1ea4d84d-245b-4f4d-8c16-2b30982ed44b",
     "showTitle": false,
     "tableResultSettingsMap": {},
     "title": ""
    }
   },
   "outputs": [],
   "source": [
    "from pyspark.sql import SparkSession\n",
    "from pyspark.sql.functions import col"
   ]
  },
  {
   "cell_type": "code",
   "execution_count": 0,
   "metadata": {
    "application/vnd.databricks.v1+cell": {
     "cellMetadata": {
      "byteLimit": 2048000,
      "rowLimit": 10000
     },
     "inputWidgets": {},
     "nuid": "75097529-aa46-41f2-9863-b5eadfc7724a",
     "showTitle": false,
     "tableResultSettingsMap": {},
     "title": ""
    }
   },
   "outputs": [],
   "source": [
    "# create session so that u will be able to submit code to spark driver \n",
    "# spark driver is going to send to driver node "
   ]
  },
  {
   "cell_type": "code",
   "execution_count": 0,
   "metadata": {
    "application/vnd.databricks.v1+cell": {
     "cellMetadata": {
      "byteLimit": 2048000,
      "rowLimit": 10000
     },
     "inputWidgets": {},
     "nuid": "39292749-b8d5-4c43-97aa-23351f726449",
     "showTitle": false,
     "tableResultSettingsMap": {},
     "title": ""
    }
   },
   "outputs": [],
   "source": [
    "spark = SparkSession.builder.appName(\"this is my first spark program\").getOrCreate()  # entry point "
   ]
  },
  {
   "cell_type": "code",
   "execution_count": 0,
   "metadata": {
    "application/vnd.databricks.v1+cell": {
     "cellMetadata": {
      "byteLimit": 2048000,
      "rowLimit": 10000
     },
     "inputWidgets": {},
     "nuid": "b03789bb-edd1-41f9-ae76-e824166e616f",
     "showTitle": false,
     "tableResultSettingsMap": {},
     "title": ""
    }
   },
   "outputs": [
    {
     "output_type": "stream",
     "name": "stdout",
     "output_type": "stream",
     "text": [
      "Out[5]: DataFrame[_c0: string, _c1: string, _c2: string, _c3: string, _c4: string, _c5: string, _c6: string, _c7: string, _c8: string, _c9: string, _c10: string, _c11: string, _c12: string, _c13: string, _c14: string, _c15: string]"
     ]
    }
   ],
   "source": [
    "spark.read.csv(\"dbfs:/FileStore/phone_usage_india_csv_I4xSL.csv\") #by default no header "
   ]
  },
  {
   "cell_type": "code",
   "execution_count": 0,
   "metadata": {
    "application/vnd.databricks.v1+cell": {
     "cellMetadata": {
      "byteLimit": 2048000,
      "rowLimit": 10000
     },
     "inputWidgets": {},
     "nuid": "fc115bac-3f02-4837-a842-de5b4e417ba2",
     "showTitle": false,
     "tableResultSettingsMap": {},
     "title": ""
    }
   },
   "outputs": [],
   "source": [
    "data = spark.read.csv(\"dbfs:/FileStore/phone_usage_india_csv_I4xSL.csv\",header=True,inferSchema=True)"
   ]
  },
  {
   "cell_type": "code",
   "execution_count": 0,
   "metadata": {
    "application/vnd.databricks.v1+cell": {
     "cellMetadata": {
      "byteLimit": 2048000,
      "rowLimit": 10000
     },
     "inputWidgets": {},
     "nuid": "642800ad-dcb2-490c-b4d4-3c6be66fca85",
     "showTitle": false,
     "tableResultSettingsMap": {},
     "title": ""
    }
   },
   "outputs": [
    {
     "output_type": "stream",
     "name": "stdout",
     "output_type": "stream",
     "text": [
      "root\n |-- User ID: string (nullable = true)\n |-- Age: integer (nullable = true)\n |-- Gender: string (nullable = true)\n |-- Location: string (nullable = true)\n |-- Phone Brand: string (nullable = true)\n |-- OS: string (nullable = true)\n |-- Screen Time (hrs/day): double (nullable = true)\n |-- Data Usage (GB/month): double (nullable = true)\n |-- Calls Duration (mins/day): double (nullable = true)\n |-- Number of Apps Installed: integer (nullable = true)\n |-- Social Media Time (hrs/day): double (nullable = true)\n |-- E-commerce Spend (INR/month): integer (nullable = true)\n |-- Streaming Time (hrs/day): double (nullable = true)\n |-- Gaming Time (hrs/day): double (nullable = true)\n |-- Monthly Recharge Cost (INR): integer (nullable = true)\n |-- Primary Use: string (nullable = true)\n\n"
     ]
    }
   ],
   "source": [
    "data.printSchema()"
   ]
  },
  {
   "cell_type": "code",
   "execution_count": 0,
   "metadata": {
    "application/vnd.databricks.v1+cell": {
     "cellMetadata": {
      "byteLimit": 2048000,
      "rowLimit": 10000
     },
     "inputWidgets": {},
     "nuid": "377e559f-be79-4475-8b7a-c9f0f81d3eb6",
     "showTitle": false,
     "tableResultSettingsMap": {},
     "title": ""
    }
   },
   "outputs": [
    {
     "output_type": "stream",
     "name": "stdout",
     "output_type": "stream",
     "text": [
      "+-------+---+------+---------+-----------+-------+---------------------+---------------------+-------------------------+------------------------+---------------------------+----------------------------+------------------------+---------------------+---------------------------+-------------+\n|User ID|Age|Gender| Location|Phone Brand|     OS|Screen Time (hrs/day)|Data Usage (GB/month)|Calls Duration (mins/day)|Number of Apps Installed|Social Media Time (hrs/day)|E-commerce Spend (INR/month)|Streaming Time (hrs/day)|Gaming Time (hrs/day)|Monthly Recharge Cost (INR)|  Primary Use|\n+-------+---+------+---------+-----------+-------+---------------------+---------------------+-------------------------+------------------------+---------------------------+----------------------------+------------------------+---------------------+---------------------------+-------------+\n| U00001| 53|  Male|   Mumbai|       Vivo|Android|                  3.7|                 23.9|                     37.9|                     104|                        3.9|                         469|                     5.2|                  4.1|                        803|    Education|\n| U00002| 60| Other|    Delhi|     Realme|    iOS|                  9.2|                 28.1|                     13.7|                     169|                        2.8|                        4997|                     5.1|                  0.4|                       1526|       Gaming|\n| U00003| 37|Female|Ahmedabad|      Nokia|Android|                  4.5|                 12.3|                     66.8|                      96|                        3.0|                        2381|                     1.7|                  2.9|                       1619|Entertainment|\n| U00004| 32|  Male|     Pune|    Samsung|Android|                 11.0|                 25.6|                    156.2|                     146|                        5.2|                        1185|                     3.2|                  0.3|                       1560|Entertainment|\n| U00005| 16|  Male|   Mumbai|     Xiaomi|    iOS|                  2.2|                  2.5|                    236.2|                      86|                        5.5|                         106|                     3.4|                  2.3|                        742| Social Media|\n+-------+---+------+---------+-----------+-------+---------------------+---------------------+-------------------------+------------------------+---------------------------+----------------------------+------------------------+---------------------+---------------------------+-------------+\nonly showing top 5 rows\n\n"
     ]
    }
   ],
   "source": [
    "data.show(5)"
   ]
  },
  {
   "cell_type": "code",
   "execution_count": 0,
   "metadata": {
    "application/vnd.databricks.v1+cell": {
     "cellMetadata": {
      "byteLimit": 2048000,
      "rowLimit": 10000
     },
     "inputWidgets": {},
     "nuid": "94d44a57-9cb1-4a40-bb1c-8c23ccd81247",
     "showTitle": false,
     "tableResultSettingsMap": {},
     "title": ""
    }
   },
   "outputs": [
    {
     "output_type": "stream",
     "name": "stdout",
     "output_type": "stream",
     "text": [
      "Out[9]: [Row(User ID='U17682', Age=27, Gender='Other', Location='Mumbai', Phone Brand='Apple', OS='iOS', Screen Time (hrs/day)=7.2, Data Usage (GB/month)=36.6, Calls Duration (mins/day)=90.4, Number of Apps Installed=81, Social Media Time (hrs/day)=5.1, E-commerce Spend (INR/month)=4007, Streaming Time (hrs/day)=3.8, Gaming Time (hrs/day)=3.3, Monthly Recharge Cost (INR)=1380, Primary Use='Entertainment'),\n Row(User ID='U17683', Age=40, Gender='Female', Location='Chennai', Phone Brand='Oppo', OS='iOS', Screen Time (hrs/day)=9.5, Data Usage (GB/month)=12.9, Calls Duration (mins/day)=243.0, Number of Apps Installed=166, Social Media Time (hrs/day)=4.3, E-commerce Spend (INR/month)=8550, Streaming Time (hrs/day)=3.4, Gaming Time (hrs/day)=0.7, Monthly Recharge Cost (INR)=222, Primary Use='Education'),\n Row(User ID='U17684', Age=34, Gender='Female', Location='Ahmedabad', Phone Brand='Realme', OS='Android', Screen Time (hrs/day)=1.1, Data Usage (GB/month)=48.9, Calls Duration (mins/day)=74.7, Number of Apps Installed=70, Social Media Time (hrs/day)=5.3, E-commerce Spend (INR/month)=5516, Streaming Time (hrs/day)=0.7, Gaming Time (hrs/day)=4.0, Monthly Recharge Cost (INR)=1612, Primary Use='Entertainment'),\n Row(User ID='U17685', Age=22, Gender='Male', Location='Hyderabad', Phone Brand='Vivo', OS='Android', Screen Time (hrs/day)=8.8, Data Usage (GB/month)=25.6, Calls Duration (mins/day)=105.6, Number of Apps Installed=96, Social Media Time (hrs/day)=2.4, E-commerce Spend (INR/month)=3614, Streaming Time (hrs/day)=6.6, Gaming Time (hrs/day)=0.8, Monthly Recharge Cost (INR)=1528, Primary Use='Work'),\n Row(User ID='U17686', Age=43, Gender='Other', Location='Kolkata', Phone Brand='Oppo', OS='iOS', Screen Time (hrs/day)=5.6, Data Usage (GB/month)=22.5, Calls Duration (mins/day)=215.2, Number of Apps Installed=78, Social Media Time (hrs/day)=5.1, E-commerce Spend (INR/month)=5332, Streaming Time (hrs/day)=0.8, Gaming Time (hrs/day)=3.6, Monthly Recharge Cost (INR)=1098, Primary Use='Gaming')]"
     ]
    }
   ],
   "source": [
    "data.tail(5)"
   ]
  },
  {
   "cell_type": "code",
   "execution_count": 0,
   "metadata": {
    "application/vnd.databricks.v1+cell": {
     "cellMetadata": {
      "byteLimit": 2048000,
      "rowLimit": 10000
     },
     "inputWidgets": {},
     "nuid": "beecbb76-b42c-407c-bcf3-585a7ebc4547",
     "showTitle": false,
     "tableResultSettingsMap": {},
     "title": ""
    }
   },
   "outputs": [
    {
     "output_type": "stream",
     "name": "stdout",
     "output_type": "stream",
     "text": [
      "Out[10]: [Row(User ID='U00001', Age=53, Gender='Male', Location='Mumbai', Phone Brand='Vivo', OS='Android', Screen Time (hrs/day)=3.7, Data Usage (GB/month)=23.9, Calls Duration (mins/day)=37.9, Number of Apps Installed=104, Social Media Time (hrs/day)=3.9, E-commerce Spend (INR/month)=469, Streaming Time (hrs/day)=5.2, Gaming Time (hrs/day)=4.1, Monthly Recharge Cost (INR)=803, Primary Use='Education'),\n Row(User ID='U00002', Age=60, Gender='Other', Location='Delhi', Phone Brand='Realme', OS='iOS', Screen Time (hrs/day)=9.2, Data Usage (GB/month)=28.1, Calls Duration (mins/day)=13.7, Number of Apps Installed=169, Social Media Time (hrs/day)=2.8, E-commerce Spend (INR/month)=4997, Streaming Time (hrs/day)=5.1, Gaming Time (hrs/day)=0.4, Monthly Recharge Cost (INR)=1526, Primary Use='Gaming'),\n Row(User ID='U00003', Age=37, Gender='Female', Location='Ahmedabad', Phone Brand='Nokia', OS='Android', Screen Time (hrs/day)=4.5, Data Usage (GB/month)=12.3, Calls Duration (mins/day)=66.8, Number of Apps Installed=96, Social Media Time (hrs/day)=3.0, E-commerce Spend (INR/month)=2381, Streaming Time (hrs/day)=1.7, Gaming Time (hrs/day)=2.9, Monthly Recharge Cost (INR)=1619, Primary Use='Entertainment'),\n Row(User ID='U00004', Age=32, Gender='Male', Location='Pune', Phone Brand='Samsung', OS='Android', Screen Time (hrs/day)=11.0, Data Usage (GB/month)=25.6, Calls Duration (mins/day)=156.2, Number of Apps Installed=146, Social Media Time (hrs/day)=5.2, E-commerce Spend (INR/month)=1185, Streaming Time (hrs/day)=3.2, Gaming Time (hrs/day)=0.3, Monthly Recharge Cost (INR)=1560, Primary Use='Entertainment'),\n Row(User ID='U00005', Age=16, Gender='Male', Location='Mumbai', Phone Brand='Xiaomi', OS='iOS', Screen Time (hrs/day)=2.2, Data Usage (GB/month)=2.5, Calls Duration (mins/day)=236.2, Number of Apps Installed=86, Social Media Time (hrs/day)=5.5, E-commerce Spend (INR/month)=106, Streaming Time (hrs/day)=3.4, Gaming Time (hrs/day)=2.3, Monthly Recharge Cost (INR)=742, Primary Use='Social Media')]"
     ]
    }
   ],
   "source": [
    "data.head(5)"
   ]
  },
  {
   "cell_type": "code",
   "execution_count": 0,
   "metadata": {
    "application/vnd.databricks.v1+cell": {
     "cellMetadata": {
      "byteLimit": 2048000,
      "rowLimit": 10000
     },
     "inputWidgets": {},
     "nuid": "040daa09-4467-4cad-9291-b891de63870d",
     "showTitle": false,
     "tableResultSettingsMap": {},
     "title": ""
    }
   },
   "outputs": [
    {
     "output_type": "stream",
     "name": "stdout",
     "output_type": "stream",
     "text": [
      "Out[11]: ['User ID',\n 'Age',\n 'Gender',\n 'Location',\n 'Phone Brand',\n 'OS',\n 'Screen Time (hrs/day)',\n 'Data Usage (GB/month)',\n 'Calls Duration (mins/day)',\n 'Number of Apps Installed',\n 'Social Media Time (hrs/day)',\n 'E-commerce Spend (INR/month)',\n 'Streaming Time (hrs/day)',\n 'Gaming Time (hrs/day)',\n 'Monthly Recharge Cost (INR)',\n 'Primary Use']"
     ]
    }
   ],
   "source": [
    "data.columns"
   ]
  },
  {
   "cell_type": "code",
   "execution_count": 0,
   "metadata": {
    "application/vnd.databricks.v1+cell": {
     "cellMetadata": {
      "byteLimit": 2048000,
      "rowLimit": 10000
     },
     "inputWidgets": {},
     "nuid": "a4f3f419-7c18-4da6-899f-a1914c73c583",
     "showTitle": false,
     "tableResultSettingsMap": {},
     "title": ""
    }
   },
   "outputs": [
    {
     "output_type": "stream",
     "name": "stdout",
     "output_type": "stream",
     "text": [
      "Out[12]: 16"
     ]
    }
   ],
   "source": [
    "len(data.columns)"
   ]
  },
  {
   "cell_type": "code",
   "execution_count": 0,
   "metadata": {
    "application/vnd.databricks.v1+cell": {
     "cellMetadata": {
      "byteLimit": 2048000,
      "rowLimit": 10000
     },
     "inputWidgets": {},
     "nuid": "1c6afe1a-7784-4641-8434-144d854cd268",
     "showTitle": false,
     "tableResultSettingsMap": {},
     "title": ""
    }
   },
   "outputs": [
    {
     "output_type": "stream",
     "name": "stdout",
     "output_type": "stream",
     "text": [
      "Out[13]: 17686"
     ]
    }
   ],
   "source": [
    "data.count()"
   ]
  },
  {
   "cell_type": "code",
   "execution_count": 0,
   "metadata": {
    "application/vnd.databricks.v1+cell": {
     "cellMetadata": {
      "byteLimit": 2048000,
      "rowLimit": 10000
     },
     "inputWidgets": {},
     "nuid": "c7c1b13c-2962-4a19-a512-09c0cb3144c5",
     "showTitle": false,
     "tableResultSettingsMap": {},
     "title": ""
    }
   },
   "outputs": [
    {
     "output_type": "stream",
     "name": "stdout",
     "output_type": "stream",
     "text": [
      "Out[14]: [('User ID', 'string'),\n ('Age', 'int'),\n ('Gender', 'string'),\n ('Location', 'string'),\n ('Phone Brand', 'string'),\n ('OS', 'string'),\n ('Screen Time (hrs/day)', 'double'),\n ('Data Usage (GB/month)', 'double'),\n ('Calls Duration (mins/day)', 'double'),\n ('Number of Apps Installed', 'int'),\n ('Social Media Time (hrs/day)', 'double'),\n ('E-commerce Spend (INR/month)', 'int'),\n ('Streaming Time (hrs/day)', 'double'),\n ('Gaming Time (hrs/day)', 'double'),\n ('Monthly Recharge Cost (INR)', 'int'),\n ('Primary Use', 'string')]"
     ]
    }
   ],
   "source": [
    "data.dtypes"
   ]
  },
  {
   "cell_type": "code",
   "execution_count": 0,
   "metadata": {
    "application/vnd.databricks.v1+cell": {
     "cellMetadata": {
      "byteLimit": 2048000,
      "rowLimit": 10000
     },
     "inputWidgets": {},
     "nuid": "946a5de7-1e6f-47b0-90dd-c78883245964",
     "showTitle": false,
     "tableResultSettingsMap": {},
     "title": ""
    }
   },
   "outputs": [
    {
     "output_type": "stream",
     "name": "stdout",
     "output_type": "stream",
     "text": [
      "Out[15]: list"
     ]
    }
   ],
   "source": [
    "type(data.dtypes)"
   ]
  },
  {
   "cell_type": "code",
   "execution_count": 0,
   "metadata": {
    "application/vnd.databricks.v1+cell": {
     "cellMetadata": {
      "byteLimit": 2048000,
      "rowLimit": 10000
     },
     "inputWidgets": {},
     "nuid": "a47e4101-88b2-4b5c-95f4-a9585bfb8b6a",
     "showTitle": false,
     "tableResultSettingsMap": {},
     "title": ""
    }
   },
   "outputs": [
    {
     "output_type": "stream",
     "name": "stdout",
     "output_type": "stream",
     "text": [
      "User ID : string\nAge : int\nGender : string\nLocation : string\nPhone Brand : string\nOS : string\nScreen Time (hrs/day) : double\nData Usage (GB/month) : double\nCalls Duration (mins/day) : double\nNumber of Apps Installed : int\nSocial Media Time (hrs/day) : double\nE-commerce Spend (INR/month) : int\nStreaming Time (hrs/day) : double\nGaming Time (hrs/day) : double\nMonthly Recharge Cost (INR) : int\nPrimary Use : string\n"
     ]
    }
   ],
   "source": [
    "for columns , dtypes in data.dtypes:\n",
    "    print(f\"{columns} : {dtypes}\")"
   ]
  },
  {
   "cell_type": "code",
   "execution_count": 0,
   "metadata": {
    "application/vnd.databricks.v1+cell": {
     "cellMetadata": {
      "byteLimit": 2048000,
      "rowLimit": 10000
     },
     "inputWidgets": {},
     "nuid": "9f4dee03-1261-4211-8d4a-52bdaf9e2f67",
     "showTitle": false,
     "tableResultSettingsMap": {},
     "title": ""
    }
   },
   "outputs": [
    {
     "output_type": "stream",
     "name": "stdout",
     "output_type": "stream",
     "text": [
      "+-------+-------+------------------+------+---------+-----------+-------+---------------------+---------------------+-------------------------+------------------------+---------------------------+----------------------------+------------------------+---------------------+---------------------------+-----------+\n|summary|User ID|               Age|Gender| Location|Phone Brand|     OS|Screen Time (hrs/day)|Data Usage (GB/month)|Calls Duration (mins/day)|Number of Apps Installed|Social Media Time (hrs/day)|E-commerce Spend (INR/month)|Streaming Time (hrs/day)|Gaming Time (hrs/day)|Monthly Recharge Cost (INR)|Primary Use|\n+-------+-------+------------------+------+---------+-----------+-------+---------------------+---------------------+-------------------------+------------------------+---------------------------+----------------------------+------------------------+---------------------+---------------------------+-----------+\n|  count|  17686|             17686| 17686|    17686|      17686|  17686|                17686|                17686|                    17686|                   17686|                      17686|                       17686|                   17686|                17686|                      17686|      17686|\n|   mean|   null| 37.58424742734366|  null|     null|       null|   null|    6.546375664367289|   25.411257491801486|        151.4058464322059|      104.58486938821667|         3.2523691055071704|            5075.70784801538|      4.2506163066832565|    2.490874137736062|         1042.7853669569151|       null|\n| stddev|   null|13.338251788617113|  null|     null|       null|   null|   3.1726772356159683|   14.122167498320856|        84.92335325749652|       55.21709697361205|         1.5902230927017802|           2871.604840767319|         2.1556832366318|   1.4460030819356924|          552.5020671416656|       null|\n|    min| U00001|                15|Female|Ahmedabad|      Apple|Android|                  1.0|                  1.0|                      5.0|                      10|                        0.5|                         100|                     0.5|                  0.0|                        100|  Education|\n|    max| U17686|                60| Other|     Pune|     Xiaomi|    iOS|                 12.0|                 50.0|                    300.0|                     200|                        6.0|                       10000|                     8.0|                  5.0|                       2000|       Work|\n+-------+-------+------------------+------+---------+-----------+-------+---------------------+---------------------+-------------------------+------------------------+---------------------------+----------------------------+------------------------+---------------------+---------------------------+-----------+\n\n"
     ]
    }
   ],
   "source": [
    "data.describe().show()"
   ]
  },
  {
   "cell_type": "code",
   "execution_count": 0,
   "metadata": {
    "application/vnd.databricks.v1+cell": {
     "cellMetadata": {
      "byteLimit": 2048000,
      "rowLimit": 10000
     },
     "inputWidgets": {},
     "nuid": "8d04b80a-7ec9-4338-8e36-977b80fdcbc6",
     "showTitle": false,
     "tableResultSettingsMap": {},
     "title": ""
    }
   },
   "outputs": [
    {
     "output_type": "stream",
     "name": "stdout",
     "output_type": "stream",
     "text": [
      "+---+\n|Age|\n+---+\n| 53|\n| 60|\n| 37|\n| 32|\n| 16|\n| 21|\n| 57|\n| 56|\n| 46|\n| 44|\n| 55|\n| 41|\n| 53|\n| 35|\n| 33|\n| 52|\n| 46|\n| 54|\n| 50|\n| 40|\n+---+\nonly showing top 20 rows\n\n"
     ]
    }
   ],
   "source": [
    "age = data.select(\"Age\").show()"
   ]
  },
  {
   "cell_type": "code",
   "execution_count": 0,
   "metadata": {
    "application/vnd.databricks.v1+cell": {
     "cellMetadata": {
      "byteLimit": 2048000,
      "rowLimit": 10000
     },
     "inputWidgets": {},
     "nuid": "061c7de2-760d-4e73-9c80-c6d6b6116c12",
     "showTitle": false,
     "tableResultSettingsMap": {},
     "title": ""
    }
   },
   "outputs": [
    {
     "output_type": "stream",
     "name": "stdout",
     "output_type": "stream",
     "text": [
      "Out[19]: NoneType"
     ]
    }
   ],
   "source": [
    "type(age)"
   ]
  },
  {
   "cell_type": "code",
   "execution_count": 0,
   "metadata": {
    "application/vnd.databricks.v1+cell": {
     "cellMetadata": {
      "byteLimit": 2048000,
      "rowLimit": 10000
     },
     "inputWidgets": {},
     "nuid": "c306dd70-2d49-4ddb-aa74-83495fb898bc",
     "showTitle": false,
     "tableResultSettingsMap": {},
     "title": ""
    }
   },
   "outputs": [
    {
     "output_type": "stream",
     "name": "stdout",
     "output_type": "stream",
     "text": [
      "+---+---------------------------+\n|Age|Monthly Recharge Cost (INR)|\n+---+---------------------------+\n| 53|                        803|\n| 60|                       1526|\n| 37|                       1619|\n| 32|                       1560|\n| 16|                        742|\n| 21|                       1749|\n| 57|                       1073|\n| 56|                       1136|\n| 46|                       1253|\n| 44|                        168|\n| 55|                       1098|\n| 41|                        151|\n| 53|                        240|\n| 35|                        972|\n| 33|                       1046|\n| 52|                       1769|\n| 46|                       1679|\n| 54|                       1360|\n| 50|                       1639|\n| 40|                       1224|\n+---+---------------------------+\nonly showing top 20 rows\n\n"
     ]
    }
   ],
   "source": [
    "data.select(\"Age\",\"Monthly Recharge Cost (INR)\").show()"
   ]
  },
  {
   "cell_type": "code",
   "execution_count": 0,
   "metadata": {
    "application/vnd.databricks.v1+cell": {
     "cellMetadata": {
      "byteLimit": 2048000,
      "rowLimit": 10000
     },
     "inputWidgets": {},
     "nuid": "b501da5f-12a3-42a2-a9c9-a20fd0bc1453",
     "showTitle": false,
     "tableResultSettingsMap": {},
     "title": ""
    }
   },
   "outputs": [
    {
     "output_type": "stream",
     "name": "stdout",
     "output_type": "stream",
     "text": [
      "+---+---------------------------+\n|Age|Monthly Recharge Cost (INR)|\n+---+---------------------------+\n| 53|                        803|\n| 60|                       1526|\n| 37|                       1619|\n| 32|                       1560|\n| 16|                        742|\n| 21|                       1749|\n| 57|                       1073|\n| 56|                       1136|\n| 46|                       1253|\n| 44|                        168|\n| 55|                       1098|\n| 41|                        151|\n| 53|                        240|\n| 35|                        972|\n| 33|                       1046|\n| 52|                       1769|\n| 46|                       1679|\n| 54|                       1360|\n| 50|                       1639|\n| 40|                       1224|\n+---+---------------------------+\nonly showing top 20 rows\n\nOut[21]: NoneType"
     ]
    }
   ],
   "source": [
    "type(data.select(\"Age\",\"Monthly Recharge Cost (INR)\").show())"
   ]
  },
  {
   "cell_type": "code",
   "execution_count": 0,
   "metadata": {
    "application/vnd.databricks.v1+cell": {
     "cellMetadata": {
      "byteLimit": 2048000,
      "rowLimit": 10000
     },
     "inputWidgets": {},
     "nuid": "1507af1b-b102-4c66-bbb7-1279c93e0e80",
     "showTitle": false,
     "tableResultSettingsMap": {},
     "title": ""
    }
   },
   "outputs": [],
   "source": [
    "# if we use the .show() method the type will be NoneType"
   ]
  },
  {
   "cell_type": "code",
   "execution_count": 0,
   "metadata": {
    "application/vnd.databricks.v1+cell": {
     "cellMetadata": {
      "byteLimit": 2048000,
      "rowLimit": 10000
     },
     "inputWidgets": {},
     "nuid": "feaf9f83-162c-444d-b3bf-77542b85ea40",
     "showTitle": false,
     "tableResultSettingsMap": {},
     "title": ""
    }
   },
   "outputs": [],
   "source": [
    "age = data.select(\"Age\")"
   ]
  },
  {
   "cell_type": "code",
   "execution_count": 0,
   "metadata": {
    "application/vnd.databricks.v1+cell": {
     "cellMetadata": {
      "byteLimit": 2048000,
      "rowLimit": 10000
     },
     "inputWidgets": {},
     "nuid": "55c12074-abd0-4bfb-abb2-08b6534ef6f0",
     "showTitle": false,
     "tableResultSettingsMap": {},
     "title": ""
    }
   },
   "outputs": [
    {
     "output_type": "stream",
     "name": "stdout",
     "output_type": "stream",
     "text": [
      "Out[24]: pyspark.sql.dataframe.DataFrame"
     ]
    }
   ],
   "source": [
    "type(age)"
   ]
  },
  {
   "cell_type": "code",
   "execution_count": 0,
   "metadata": {
    "application/vnd.databricks.v1+cell": {
     "cellMetadata": {
      "byteLimit": 2048000,
      "rowLimit": 10000
     },
     "inputWidgets": {},
     "nuid": "2b6b123d-20d4-41ae-a96b-16d8d5bf8c5c",
     "showTitle": false,
     "tableResultSettingsMap": {},
     "title": ""
    }
   },
   "outputs": [
    {
     "output_type": "stream",
     "name": "stdout",
     "output_type": "stream",
     "text": [
      "+-------+------------------+\n|summary|               Age|\n+-------+------------------+\n|  count|             17686|\n|   mean| 37.58424742734366|\n| stddev|13.338251788617113|\n|    min|                15|\n|    max|                60|\n+-------+------------------+\n\n"
     ]
    }
   ],
   "source": [
    "age.describe().show()"
   ]
  },
  {
   "cell_type": "code",
   "execution_count": 0,
   "metadata": {
    "application/vnd.databricks.v1+cell": {
     "cellMetadata": {
      "byteLimit": 2048000,
      "rowLimit": 10000
     },
     "inputWidgets": {},
     "nuid": "2f37b3dc-7a9c-44f8-9fe0-69fa701bafda",
     "showTitle": false,
     "tableResultSettingsMap": {},
     "title": ""
    }
   },
   "outputs": [],
   "source": [
    "# filter method to filter data"
   ]
  },
  {
   "cell_type": "code",
   "execution_count": 0,
   "metadata": {
    "application/vnd.databricks.v1+cell": {
     "cellMetadata": {
      "byteLimit": 2048000,
      "rowLimit": 10000
     },
     "inputWidgets": {},
     "nuid": "bd0baf8f-4c7a-4eba-86c3-80758bbe5456",
     "showTitle": false,
     "tableResultSettingsMap": {},
     "title": ""
    }
   },
   "outputs": [
    {
     "output_type": "stream",
     "name": "stdout",
     "output_type": "stream",
     "text": [
      "+-------+---+------+---------+-----------+-------+---------------------+---------------------+-------------------------+------------------------+---------------------------+----------------------------+------------------------+---------------------+---------------------------+-------------+\n|User ID|Age|Gender| Location|Phone Brand|     OS|Screen Time (hrs/day)|Data Usage (GB/month)|Calls Duration (mins/day)|Number of Apps Installed|Social Media Time (hrs/day)|E-commerce Spend (INR/month)|Streaming Time (hrs/day)|Gaming Time (hrs/day)|Monthly Recharge Cost (INR)|  Primary Use|\n+-------+---+------+---------+-----------+-------+---------------------+---------------------+-------------------------+------------------------+---------------------------+----------------------------+------------------------+---------------------+---------------------------+-------------+\n| U00005| 16|  Male|   Mumbai|     Xiaomi|    iOS|                  2.2|                  2.5|                    236.2|                      86|                        5.5|                         106|                     3.4|                  2.3|                        742| Social Media|\n| U00024| 16|Female|Hyderabad|       Vivo|Android|                  1.4|                 25.5|                    222.0|                     141|                        1.6|                        1119|                     2.8|                  0.4|                       1118|       Gaming|\n| U00027| 15|  Male|    Delhi|       Vivo|Android|                  9.2|                 42.7|                    230.9|                     180|                        0.5|                        4611|                     1.0|                  2.5|                        210|       Gaming|\n| U00040| 19|  Male|  Kolkata|      Apple|    iOS|                  5.5|                  2.9|                    212.5|                     129|                        5.6|                        8514|                     7.9|                  0.8|                        647|    Education|\n| U00048| 19|  Male|Bangalore|     Realme|    iOS|                  3.1|                 24.8|                     82.1|                      75|                        3.9|                        1396|                     2.0|                  1.6|                       1245| Social Media|\n| U00050| 17| Other|  Lucknow|      Apple|    iOS|                  4.7|                 30.4|                    157.7|                     187|                        2.6|                        9189|                     4.3|                  4.9|                        801|Entertainment|\n| U00058| 16|Female|     Pune|      Nokia|    iOS|                  9.0|                  7.1|                    142.9|                     164|                        4.9|                        6088|                     2.1|                  1.9|                        686|         Work|\n| U00070| 18|  Male|    Delhi|       Oppo|    iOS|                  5.3|                 10.4|                    257.0|                     116|                        2.3|                        4368|                     7.6|                  4.2|                       1359|       Gaming|\n| U00078| 19| Other|  Kolkata|   Motorola|    iOS|                  6.0|                 42.2|                    193.0|                     101|                        3.1|                        4606|                     2.2|                  3.9|                        705|Entertainment|\n| U00097| 17| Other|Hyderabad|   Motorola|Android|                 11.8|                 35.2|                    111.2|                     140|                        0.7|                         856|                     7.0|                  2.0|                       1474|Entertainment|\n| U00103| 15| Other|   Mumbai|     Realme|    iOS|                 10.5|                 39.3|                     77.1|                     137|                        2.2|                        8230|                     3.1|                  3.1|                        687|         Work|\n| U00115| 15| Other|     Pune|       Oppo|    iOS|                  8.5|                 18.6|                    118.8|                      30|                        5.8|                        7615|                     6.8|                  2.5|                        448|    Education|\n| U00118| 15| Other|   Jaipur|      Nokia|Android|                  8.9|                 13.9|                     99.2|                      51|                        5.4|                        7174|                     0.7|                  1.7|                       1837|    Education|\n| U00119| 19|Female|  Chennai|   Motorola|    iOS|                  7.2|                 16.0|                    163.5|                     191|                        1.9|                        6130|                     4.8|                  1.8|                       1202|       Gaming|\n| U00135| 18| Other|  Lucknow|      Apple|Android|                  3.7|                 40.8|                    226.0|                     167|                        0.8|                        4554|                     0.9|                  4.2|                        411| Social Media|\n| U00140| 19|  Male|  Lucknow|       Vivo|Android|                  4.1|                 14.3|                    134.6|                     193|                        4.9|                         977|                     6.2|                  0.2|                        512| Social Media|\n| U00147| 18|  Male|Hyderabad|      Apple|Android|                  6.0|                 16.7|                    201.8|                      43|                        2.9|                        4640|                     5.2|                  4.6|                       1497|Entertainment|\n| U00151| 16| Other|  Chennai|    Samsung|    iOS|                  7.9|                  6.8|                     69.8|                      38|                        2.8|                        5468|                     7.7|                  4.2|                       1304|Entertainment|\n| U00158| 16| Other|   Jaipur|   Motorola|    iOS|                 11.5|                 41.2|                    274.4|                     122|                        4.8|                         206|                     3.1|                  1.2|                       1935|    Education|\n| U00174| 19| Other|   Mumbai|     Xiaomi|Android|                 11.7|                  6.2|                     81.7|                      20|                        3.3|                        3667|                     6.1|                  4.2|                        722| Social Media|\n+-------+---+------+---------+-----------+-------+---------------------+---------------------+-------------------------+------------------------+---------------------------+----------------------------+------------------------+---------------------+---------------------------+-------------+\nonly showing top 20 rows\n\n"
     ]
    }
   ],
   "source": [
    "data.filter(col(\"Age\")<20).show()"
   ]
  },
  {
   "cell_type": "code",
   "execution_count": 0,
   "metadata": {
    "application/vnd.databricks.v1+cell": {
     "cellMetadata": {
      "byteLimit": 2048000,
      "rowLimit": 10000
     },
     "inputWidgets": {},
     "nuid": "2782fb2f-6719-466d-a532-f16475a7040b",
     "showTitle": false,
     "tableResultSettingsMap": {},
     "title": ""
    }
   },
   "outputs": [
    {
     "output_type": "stream",
     "name": "stdout",
     "output_type": "stream",
     "text": [
      "+---+---------------------+---------------------+-------------------------+\n|Age|Screen Time (hrs/day)|Data Usage (GB/month)|Calls Duration (mins/day)|\n+---+---------------------+---------------------+-------------------------+\n| 16|                  2.2|                  2.5|                    236.2|\n| 16|                  1.4|                 25.5|                    222.0|\n| 15|                  9.2|                 42.7|                    230.9|\n| 19|                  5.5|                  2.9|                    212.5|\n| 19|                  3.1|                 24.8|                     82.1|\n| 17|                  4.7|                 30.4|                    157.7|\n| 16|                  9.0|                  7.1|                    142.9|\n| 18|                  5.3|                 10.4|                    257.0|\n| 19|                  6.0|                 42.2|                    193.0|\n| 17|                 11.8|                 35.2|                    111.2|\n| 15|                 10.5|                 39.3|                     77.1|\n| 15|                  8.5|                 18.6|                    118.8|\n| 15|                  8.9|                 13.9|                     99.2|\n| 19|                  7.2|                 16.0|                    163.5|\n| 18|                  3.7|                 40.8|                    226.0|\n| 19|                  4.1|                 14.3|                    134.6|\n| 18|                  6.0|                 16.7|                    201.8|\n| 16|                  7.9|                  6.8|                     69.8|\n| 16|                 11.5|                 41.2|                    274.4|\n| 19|                 11.7|                  6.2|                     81.7|\n+---+---------------------+---------------------+-------------------------+\nonly showing top 20 rows\n\n"
     ]
    }
   ],
   "source": [
    "data.filter(col(\"Age\")<20).select(\"Age\",\"Screen Time (hrs/day)\",\"Data Usage (GB/month)\",\"Calls Duration (mins/day)\").show()"
   ]
  },
  {
   "cell_type": "code",
   "execution_count": 0,
   "metadata": {
    "application/vnd.databricks.v1+cell": {
     "cellMetadata": {
      "byteLimit": 2048000,
      "rowLimit": 10000
     },
     "inputWidgets": {},
     "nuid": "d50ed328-b50d-4347-9e1b-73e5a087b23a",
     "showTitle": false,
     "tableResultSettingsMap": {},
     "title": ""
    }
   },
   "outputs": [
    {
     "output_type": "stream",
     "name": "stdout",
     "output_type": "stream",
     "text": [
      "+-------+------------------+---------------------+---------------------+-------------------------+\n|summary|               Age|Screen Time (hrs/day)|Data Usage (GB/month)|Calls Duration (mins/day)|\n+-------+------------------+---------------------+---------------------+-------------------------+\n|  count|              1941|                 1941|                 1941|                     1941|\n|   mean|17.001545595054097|    6.544204018547137|   25.379855744461615|        153.7225141679548|\n| stddev| 1.438605310281639|    3.156786772889325|   13.957482609837697|        84.20230133168563|\n|    min|                15|                  1.0|                  1.0|                      5.2|\n|    max|                19|                 12.0|                 50.0|                    299.9|\n+-------+------------------+---------------------+---------------------+-------------------------+\n\n"
     ]
    }
   ],
   "source": [
    "data.filter(col(\"Age\")<20).select(\"Age\",\"Screen Time (hrs/day)\",\"Data Usage (GB/month)\",\"Calls Duration (mins/day)\").describe().show()"
   ]
  },
  {
   "cell_type": "code",
   "execution_count": 0,
   "metadata": {
    "application/vnd.databricks.v1+cell": {
     "cellMetadata": {
      "byteLimit": 2048000,
      "rowLimit": 10000
     },
     "inputWidgets": {},
     "nuid": "577ee8dd-bcf7-409a-b97d-955f15c7f45b",
     "showTitle": false,
     "tableResultSettingsMap": {},
     "title": ""
    }
   },
   "outputs": [],
   "source": [
    "data.createOrReplaceTempView(\"phone_use_IND\")"
   ]
  },
  {
   "cell_type": "code",
   "execution_count": 0,
   "metadata": {
    "application/vnd.databricks.v1+cell": {
     "cellMetadata": {
      "byteLimit": 2048000,
      "rowLimit": 10000
     },
     "inputWidgets": {},
     "nuid": "9e64131a-5fa0-4305-a732-e849a54815aa",
     "showTitle": false,
     "tableResultSettingsMap": {},
     "title": ""
    }
   },
   "outputs": [
    {
     "output_type": "stream",
     "name": "stdout",
     "output_type": "stream",
     "text": [
      "+-------+---+------+---------+------------+-------+---------------------+---------------------+-------------------------+------------------------+---------------------------+----------------------------+------------------------+---------------------+---------------------------+-------------+\n|User ID|Age|Gender| Location| Phone Brand|     OS|Screen Time (hrs/day)|Data Usage (GB/month)|Calls Duration (mins/day)|Number of Apps Installed|Social Media Time (hrs/day)|E-commerce Spend (INR/month)|Streaming Time (hrs/day)|Gaming Time (hrs/day)|Monthly Recharge Cost (INR)|  Primary Use|\n+-------+---+------+---------+------------+-------+---------------------+---------------------+-------------------------+------------------------+---------------------------+----------------------------+------------------------+---------------------+---------------------------+-------------+\n| U00001| 53|  Male|   Mumbai|        Vivo|Android|                  3.7|                 23.9|                     37.9|                     104|                        3.9|                         469|                     5.2|                  4.1|                        803|    Education|\n| U00002| 60| Other|    Delhi|      Realme|    iOS|                  9.2|                 28.1|                     13.7|                     169|                        2.8|                        4997|                     5.1|                  0.4|                       1526|       Gaming|\n| U00003| 37|Female|Ahmedabad|       Nokia|Android|                  4.5|                 12.3|                     66.8|                      96|                        3.0|                        2381|                     1.7|                  2.9|                       1619|Entertainment|\n| U00004| 32|  Male|     Pune|     Samsung|Android|                 11.0|                 25.6|                    156.2|                     146|                        5.2|                        1185|                     3.2|                  0.3|                       1560|Entertainment|\n| U00005| 16|  Male|   Mumbai|      Xiaomi|    iOS|                  2.2|                  2.5|                    236.2|                      86|                        5.5|                         106|                     3.4|                  2.3|                        742| Social Media|\n| U00006| 21|  Male|   Jaipur|        Oppo|    iOS|                  5.4|                 10.6|                    210.6|                      25|                        4.2|                        6285|                     0.6|                  4.8|                       1749|Entertainment|\n| U00007| 57|Female|  Lucknow|       Apple|    iOS|                  6.0|                 35.2|                    154.5|                     123|                        0.8|                        2653|                     2.9|                  2.3|                       1073| Social Media|\n| U00008| 56| Other|  Kolkata|      Realme|    iOS|                  3.1|                 43.5|                    125.3|                     188|                        2.3|                        9767|                     5.2|                  5.0|                       1136|Entertainment|\n| U00009| 46|Female|  Kolkata|        Oppo|Android|                  5.3|                 46.4|                     21.3|                     194|                        3.7|                        2870|                     6.1|                  2.8|                       1253|Entertainment|\n| U00010| 44| Other|  Kolkata|       Apple|    iOS|                  9.9|                 10.6|                    180.2|                      84|                        4.8|                        9193|                     7.6|                  0.4|                        168|    Education|\n| U00011| 55| Other|  Lucknow|       Nokia|Android|                  1.6|                 23.7|                    192.0|                      27|                        3.1|                        9330|                     1.2|                  2.3|                       1098|         Work|\n| U00012| 41|Female|    Delhi|        Oppo|Android|                  7.5|                 23.5|                     84.9|                     187|                        0.9|                         643|                     3.5|                  2.7|                        151| Social Media|\n| U00013| 53|  Male|Bangalore|      Realme|    iOS|                 10.5|                  1.4|                     33.7|                     137|                        4.5|                        7854|                     7.2|                  1.4|                        240|    Education|\n| U00014| 35|  Male|   Jaipur|      Realme|Android|                 10.3|                 32.4|                    247.1|                     124|                        5.2|                        3347|                     3.8|                  4.5|                        972| Social Media|\n| U00015| 33|Female|   Jaipur|     Samsung|    iOS|                  1.7|                 33.2|                    208.8|                     121|                        3.0|                        3185|                     4.2|                  0.5|                       1046|Entertainment|\n| U00016| 52|  Male|Bangalore|Google Pixel|Android|                  5.1|                 28.5|                    169.2|                     161|                        4.6|                        6175|                     4.4|                  4.3|                       1769|         Work|\n| U00017| 46| Other|   Mumbai|       Apple|Android|                  3.1|                 23.6|                    153.9|                     183|                        2.5|                        6242|                     6.2|                  0.4|                       1679|    Education|\n| U00018| 54|  Male|  Kolkata|       Apple|Android|                 11.6|                 12.6|                    210.4|                      62|                        4.9|                        4642|                     0.9|                  4.1|                       1360|Entertainment|\n| U00019| 50|Female|  Chennai|Google Pixel|Android|                  5.3|                  5.2|                    235.6|                     188|                        4.6|                        1120|                     1.0|                  0.8|                       1639|         Work|\n| U00020| 40| Other|Hyderabad|    Motorola|    iOS|                  9.0|                 38.9|                    289.6|                      62|                        2.4|                        8012|                     7.7|                  2.0|                       1224|         Work|\n+-------+---+------+---------+------------+-------+---------------------+---------------------+-------------------------+------------------------+---------------------------+----------------------------+------------------------+---------------------+---------------------------+-------------+\nonly showing top 20 rows\n\n"
     ]
    }
   ],
   "source": [
    "spark.sql(\"select * from phone_use_IND\").show()"
   ]
  },
  {
   "cell_type": "code",
   "execution_count": 0,
   "metadata": {
    "application/vnd.databricks.v1+cell": {
     "cellMetadata": {
      "byteLimit": 2048000,
      "rowLimit": 10000
     },
     "inputWidgets": {},
     "nuid": "2fe30091-2b8d-4e32-9883-b9a5f3689666",
     "showTitle": false,
     "tableResultSettingsMap": {},
     "title": ""
    }
   },
   "outputs": [
    {
     "output_type": "stream",
     "name": "stdout",
     "output_type": "stream",
     "text": [
      "Out[30]: DataFrame[User ID: string, Age: int, Gender: string, Location: string, Phone Brand: string, OS: string, Screen Time (hrs/day): double, Data Usage (GB/month): double, Calls Duration (mins/day): double, Number of Apps Installed: int, Social Media Time (hrs/day): double, E-commerce Spend (INR/month): int, Streaming Time (hrs/day): double, Gaming Time (hrs/day): double, Monthly Recharge Cost (INR): int, Primary Use: string]"
     ]
    }
   ],
   "source": [
    "data"
   ]
  },
  {
   "cell_type": "code",
   "execution_count": 0,
   "metadata": {
    "application/vnd.databricks.v1+cell": {
     "cellMetadata": {
      "byteLimit": 2048000,
      "rowLimit": 10000
     },
     "inputWidgets": {},
     "nuid": "8e6c9a83-6064-4c94-bbaf-4152f67ff44d",
     "showTitle": false,
     "tableResultSettingsMap": {},
     "title": ""
    }
   },
   "outputs": [
    {
     "output_type": "stream",
     "name": "stdout",
     "output_type": "stream",
     "text": [
      "+-------+---+------+---------+-----------+-------+---------------------+---------------------+-------------------------+------------------------+---------------------------+----------------------------+------------------------+---------------------+---------------------------+-------------+\n|User ID|Age|Gender| Location|Phone Brand|     OS|Screen Time (hrs/day)|Data Usage (GB/month)|Calls Duration (mins/day)|Number of Apps Installed|Social Media Time (hrs/day)|E-commerce Spend (INR/month)|Streaming Time (hrs/day)|Gaming Time (hrs/day)|Monthly Recharge Cost (INR)|  Primary Use|\n+-------+---+------+---------+-----------+-------+---------------------+---------------------+-------------------------+------------------------+---------------------------+----------------------------+------------------------+---------------------+---------------------------+-------------+\n| U00001| 53|  Male|   Mumbai|       Vivo|Android|                  3.7|                 23.9|                     37.9|                     104|                        3.9|                         469|                     5.2|                  4.1|                        803|    Education|\n| U00002| 60| Other|    Delhi|     Realme|    iOS|                  9.2|                 28.1|                     13.7|                     169|                        2.8|                        4997|                     5.1|                  0.4|                       1526|       Gaming|\n| U00003| 37|Female|Ahmedabad|      Nokia|Android|                  4.5|                 12.3|                     66.8|                      96|                        3.0|                        2381|                     1.7|                  2.9|                       1619|Entertainment|\n| U00004| 32|  Male|     Pune|    Samsung|Android|                 11.0|                 25.6|                    156.2|                     146|                        5.2|                        1185|                     3.2|                  0.3|                       1560|Entertainment|\n| U00005| 16|  Male|   Mumbai|     Xiaomi|    iOS|                  2.2|                  2.5|                    236.2|                      86|                        5.5|                         106|                     3.4|                  2.3|                        742| Social Media|\n+-------+---+------+---------+-----------+-------+---------------------+---------------------+-------------------------+------------------------+---------------------------+----------------------------+------------------------+---------------------+---------------------------+-------------+\nonly showing top 5 rows\n\n"
     ]
    }
   ],
   "source": [
    "data.show(5)"
   ]
  },
  {
   "cell_type": "code",
   "execution_count": 0,
   "metadata": {
    "application/vnd.databricks.v1+cell": {
     "cellMetadata": {
      "byteLimit": 2048000,
      "rowLimit": 10000
     },
     "inputWidgets": {},
     "nuid": "75a93f27-ac97-43d9-97d8-623146c5c3b8",
     "showTitle": false,
     "tableResultSettingsMap": {},
     "title": ""
    }
   },
   "outputs": [
    {
     "output_type": "stream",
     "name": "stdout",
     "output_type": "stream",
     "text": [
      "Out[33]: ['User ID',\n 'Age',\n 'Gender',\n 'Location',\n 'Phone Brand',\n 'OS',\n 'Screen Time (hrs/day)',\n 'Data Usage (GB/month)',\n 'Calls Duration (mins/day)',\n 'Number of Apps Installed',\n 'Social Media Time (hrs/day)',\n 'E-commerce Spend (INR/month)',\n 'Streaming Time (hrs/day)',\n 'Gaming Time (hrs/day)',\n 'Monthly Recharge Cost (INR)',\n 'Primary Use']"
     ]
    }
   ],
   "source": [
    "data.columns"
   ]
  },
  {
   "cell_type": "code",
   "execution_count": 0,
   "metadata": {
    "application/vnd.databricks.v1+cell": {
     "cellMetadata": {
      "byteLimit": 2048000,
      "rowLimit": 10000
     },
     "inputWidgets": {},
     "nuid": "c89aa6dd-444a-4f7e-ae7b-4eb8b6052237",
     "showTitle": false,
     "tableResultSettingsMap": {},
     "title": ""
    }
   },
   "outputs": [],
   "source": [
    "data = data.withColumn(\"Screen time in minutes\",data['Screen Time (hrs/day)']*60)"
   ]
  },
  {
   "cell_type": "code",
   "execution_count": 0,
   "metadata": {
    "application/vnd.databricks.v1+cell": {
     "cellMetadata": {
      "byteLimit": 2048000,
      "rowLimit": 10000
     },
     "inputWidgets": {},
     "nuid": "c9a5ca07-5a9a-40d2-b582-1fc3e66eab00",
     "showTitle": false,
     "tableResultSettingsMap": {},
     "title": ""
    }
   },
   "outputs": [
    {
     "output_type": "stream",
     "name": "stdout",
     "output_type": "stream",
     "text": [
      "Out[37]: ['User ID',\n 'Age',\n 'Gender',\n 'Location',\n 'Phone Brand',\n 'OS',\n 'Screen Time (hrs/day)',\n 'Data Usage (GB/month)',\n 'Calls Duration (mins/day)',\n 'Number of Apps Installed',\n 'Social Media Time (hrs/day)',\n 'E-commerce Spend (INR/month)',\n 'Streaming Time (hrs/day)',\n 'Gaming Time (hrs/day)',\n 'Monthly Recharge Cost (INR)',\n 'Primary Use',\n 'Screen time in minutes']"
     ]
    }
   ],
   "source": [
    "data.columns"
   ]
  },
  {
   "cell_type": "code",
   "execution_count": 0,
   "metadata": {
    "application/vnd.databricks.v1+cell": {
     "cellMetadata": {
      "byteLimit": 2048000,
      "rowLimit": 10000
     },
     "inputWidgets": {},
     "nuid": "37147cca-8b85-467f-bed4-ff89422d6fc0",
     "showTitle": false,
     "tableResultSettingsMap": {},
     "title": ""
    }
   },
   "outputs": [
    {
     "output_type": "stream",
     "name": "stdout",
     "output_type": "stream",
     "text": [
      "Out[45]: [Row(User ID='U17682', Age=27, Gender='Other', Location='Mumbai', Phone Brand='Apple', OS='iOS', Screen Time (hrs/day)=7.2, Data Usage (GB/month)=36.6, Calls Duration (mins/day)=90.4, Number of Apps Installed=81, Social Media Time (hrs/day)=5.1, E-commerce Spend (INR/month)=4007, Streaming Time (hrs/day)=3.8, Gaming Time (hrs/day)=3.3, Monthly Recharge Cost (INR)=1380, Primary Use='Entertainment', Screen time in minutes=432.0),\n Row(User ID='U17683', Age=40, Gender='Female', Location='Chennai', Phone Brand='Oppo', OS='iOS', Screen Time (hrs/day)=9.5, Data Usage (GB/month)=12.9, Calls Duration (mins/day)=243.0, Number of Apps Installed=166, Social Media Time (hrs/day)=4.3, E-commerce Spend (INR/month)=8550, Streaming Time (hrs/day)=3.4, Gaming Time (hrs/day)=0.7, Monthly Recharge Cost (INR)=222, Primary Use='Education', Screen time in minutes=570.0),\n Row(User ID='U17684', Age=34, Gender='Female', Location='Ahmedabad', Phone Brand='Realme', OS='Android', Screen Time (hrs/day)=1.1, Data Usage (GB/month)=48.9, Calls Duration (mins/day)=74.7, Number of Apps Installed=70, Social Media Time (hrs/day)=5.3, E-commerce Spend (INR/month)=5516, Streaming Time (hrs/day)=0.7, Gaming Time (hrs/day)=4.0, Monthly Recharge Cost (INR)=1612, Primary Use='Entertainment', Screen time in minutes=66.0),\n Row(User ID='U17685', Age=22, Gender='Male', Location='Hyderabad', Phone Brand='Vivo', OS='Android', Screen Time (hrs/day)=8.8, Data Usage (GB/month)=25.6, Calls Duration (mins/day)=105.6, Number of Apps Installed=96, Social Media Time (hrs/day)=2.4, E-commerce Spend (INR/month)=3614, Streaming Time (hrs/day)=6.6, Gaming Time (hrs/day)=0.8, Monthly Recharge Cost (INR)=1528, Primary Use='Work', Screen time in minutes=528.0),\n Row(User ID='U17686', Age=43, Gender='Other', Location='Kolkata', Phone Brand='Oppo', OS='iOS', Screen Time (hrs/day)=5.6, Data Usage (GB/month)=22.5, Calls Duration (mins/day)=215.2, Number of Apps Installed=78, Social Media Time (hrs/day)=5.1, E-commerce Spend (INR/month)=5332, Streaming Time (hrs/day)=0.8, Gaming Time (hrs/day)=3.6, Monthly Recharge Cost (INR)=1098, Primary Use='Gaming', Screen time in minutes=336.0)]"
     ]
    }
   ],
   "source": [
    "data.tail(5)"
   ]
  },
  {
   "cell_type": "code",
   "execution_count": 0,
   "metadata": {
    "application/vnd.databricks.v1+cell": {
     "cellMetadata": {
      "byteLimit": 2048000,
      "rowLimit": 10000
     },
     "inputWidgets": {},
     "nuid": "c7024ca5-939e-4857-ac1c-378da80f64a8",
     "showTitle": false,
     "tableResultSettingsMap": {},
     "title": ""
    }
   },
   "outputs": [
    {
     "output_type": "stream",
     "name": "stdout",
     "output_type": "stream",
     "text": [
      "+----------------------+---------------------+\n|Screen time in minutes|Screen Time (hrs/day)|\n+----------------------+---------------------+\n|                 222.0|                  3.7|\n|                 552.0|                  9.2|\n|                 270.0|                  4.5|\n|                 660.0|                 11.0|\n|                 132.0|                  2.2|\n|                 324.0|                  5.4|\n|                 360.0|                  6.0|\n|                 186.0|                  3.1|\n|                 318.0|                  5.3|\n|                 594.0|                  9.9|\n|                  96.0|                  1.6|\n|                 450.0|                  7.5|\n|                 630.0|                 10.5|\n|                 618.0|                 10.3|\n|                 102.0|                  1.7|\n|                 306.0|                  5.1|\n|                 186.0|                  3.1|\n|                 696.0|                 11.6|\n|                 318.0|                  5.3|\n|                 540.0|                  9.0|\n+----------------------+---------------------+\nonly showing top 20 rows\n\n"
     ]
    }
   ],
   "source": [
    "data.select('Screen time in minutes','Screen Time (hrs/day)').show()"
   ]
  },
  {
   "cell_type": "code",
   "execution_count": 0,
   "metadata": {
    "application/vnd.databricks.v1+cell": {
     "cellMetadata": {
      "byteLimit": 2048000,
      "rowLimit": 10000
     },
     "inputWidgets": {},
     "nuid": "e930e161-7f4a-42ef-8681-2c0aba82da9b",
     "showTitle": false,
     "tableResultSettingsMap": {},
     "title": ""
    }
   },
   "outputs": [],
   "source": [
    "data = data.withColumnRenamed('Data Usage (GB/month)','Data Usage')"
   ]
  },
  {
   "cell_type": "code",
   "execution_count": 0,
   "metadata": {
    "application/vnd.databricks.v1+cell": {
     "cellMetadata": {
      "byteLimit": 2048000,
      "rowLimit": 10000
     },
     "inputWidgets": {},
     "nuid": "78e64ce7-71aa-4a28-bf7e-6d276ac283bc",
     "showTitle": false,
     "tableResultSettingsMap": {},
     "title": ""
    }
   },
   "outputs": [
    {
     "output_type": "stream",
     "name": "stdout",
     "output_type": "stream",
     "text": [
      "Out[50]: ['User ID',\n 'Age',\n 'Gender',\n 'Location',\n 'Phone Brand',\n 'OS',\n 'Screen Time (hrs/day)',\n 'Data Usage',\n 'Calls Duration (mins/day)',\n 'Number of Apps Installed',\n 'Social Media Time (hrs/day)',\n 'E-commerce Spend (INR/month)',\n 'Streaming Time (hrs/day)',\n 'Gaming Time (hrs/day)',\n 'Monthly Recharge Cost (INR)',\n 'Primary Use',\n 'Screen time in minutes']"
     ]
    }
   ],
   "source": [
    "data.columns"
   ]
  },
  {
   "cell_type": "code",
   "execution_count": 0,
   "metadata": {
    "application/vnd.databricks.v1+cell": {
     "cellMetadata": {
      "byteLimit": 2048000,
      "rowLimit": 10000
     },
     "inputWidgets": {},
     "nuid": "2315a2c8-b0b3-430d-9563-19f0276fdb98",
     "showTitle": false,
     "tableResultSettingsMap": {},
     "title": ""
    }
   },
   "outputs": [
    {
     "output_type": "stream",
     "name": "stdout",
     "output_type": "stream",
     "text": [
      "+---+\n|age|\n+---+\n| 16|\n| 16|\n| 15|\n| 19|\n| 19|\n| 17|\n| 16|\n| 18|\n| 19|\n| 17|\n| 15|\n| 15|\n| 15|\n| 19|\n| 18|\n| 19|\n| 18|\n| 16|\n| 16|\n| 19|\n+---+\nonly showing top 20 rows\n\n"
     ]
    }
   ],
   "source": [
    "data.filter(col('age')<20).select(\"age\").show()"
   ]
  },
  {
   "cell_type": "code",
   "execution_count": 0,
   "metadata": {
    "application/vnd.databricks.v1+cell": {
     "cellMetadata": {
      "byteLimit": 2048000,
      "rowLimit": 10000
     },
     "inputWidgets": {},
     "nuid": "6d07acd2-7054-4989-8de5-dbbcaf0ab0de",
     "showTitle": false,
     "tableResultSettingsMap": {},
     "title": ""
    }
   },
   "outputs": [],
   "source": [
    "Data_age_grt = data.filter(data['age']>30)"
   ]
  },
  {
   "cell_type": "code",
   "execution_count": 0,
   "metadata": {
    "application/vnd.databricks.v1+cell": {
     "cellMetadata": {
      "byteLimit": 2048000,
      "rowLimit": 10000
     },
     "inputWidgets": {},
     "nuid": "e553e9b4-4920-4847-bb12-a1ff46e87631",
     "showTitle": false,
     "tableResultSettingsMap": {},
     "title": ""
    }
   },
   "outputs": [
    {
     "output_type": "stream",
     "name": "stdout",
     "output_type": "stream",
     "text": [
      "+-------+---+------+---------+------------+-------+---------------------+----------+-------------------------+------------------------+---------------------------+----------------------------+------------------------+---------------------+---------------------------+-------------+----------------------+\n|User ID|Age|Gender| Location| Phone Brand|     OS|Screen Time (hrs/day)|Data Usage|Calls Duration (mins/day)|Number of Apps Installed|Social Media Time (hrs/day)|E-commerce Spend (INR/month)|Streaming Time (hrs/day)|Gaming Time (hrs/day)|Monthly Recharge Cost (INR)|  Primary Use|Screen time in minutes|\n+-------+---+------+---------+------------+-------+---------------------+----------+-------------------------+------------------------+---------------------------+----------------------------+------------------------+---------------------+---------------------------+-------------+----------------------+\n| U00001| 53|  Male|   Mumbai|        Vivo|Android|                  3.7|      23.9|                     37.9|                     104|                        3.9|                         469|                     5.2|                  4.1|                        803|    Education|                 222.0|\n| U00002| 60| Other|    Delhi|      Realme|    iOS|                  9.2|      28.1|                     13.7|                     169|                        2.8|                        4997|                     5.1|                  0.4|                       1526|       Gaming|                 552.0|\n| U00003| 37|Female|Ahmedabad|       Nokia|Android|                  4.5|      12.3|                     66.8|                      96|                        3.0|                        2381|                     1.7|                  2.9|                       1619|Entertainment|                 270.0|\n| U00004| 32|  Male|     Pune|     Samsung|Android|                 11.0|      25.6|                    156.2|                     146|                        5.2|                        1185|                     3.2|                  0.3|                       1560|Entertainment|                 660.0|\n| U00007| 57|Female|  Lucknow|       Apple|    iOS|                  6.0|      35.2|                    154.5|                     123|                        0.8|                        2653|                     2.9|                  2.3|                       1073| Social Media|                 360.0|\n| U00008| 56| Other|  Kolkata|      Realme|    iOS|                  3.1|      43.5|                    125.3|                     188|                        2.3|                        9767|                     5.2|                  5.0|                       1136|Entertainment|                 186.0|\n| U00009| 46|Female|  Kolkata|        Oppo|Android|                  5.3|      46.4|                     21.3|                     194|                        3.7|                        2870|                     6.1|                  2.8|                       1253|Entertainment|                 318.0|\n| U00010| 44| Other|  Kolkata|       Apple|    iOS|                  9.9|      10.6|                    180.2|                      84|                        4.8|                        9193|                     7.6|                  0.4|                        168|    Education|                 594.0|\n| U00011| 55| Other|  Lucknow|       Nokia|Android|                  1.6|      23.7|                    192.0|                      27|                        3.1|                        9330|                     1.2|                  2.3|                       1098|         Work|                  96.0|\n| U00012| 41|Female|    Delhi|        Oppo|Android|                  7.5|      23.5|                     84.9|                     187|                        0.9|                         643|                     3.5|                  2.7|                        151| Social Media|                 450.0|\n| U00013| 53|  Male|Bangalore|      Realme|    iOS|                 10.5|       1.4|                     33.7|                     137|                        4.5|                        7854|                     7.2|                  1.4|                        240|    Education|                 630.0|\n| U00014| 35|  Male|   Jaipur|      Realme|Android|                 10.3|      32.4|                    247.1|                     124|                        5.2|                        3347|                     3.8|                  4.5|                        972| Social Media|                 618.0|\n| U00015| 33|Female|   Jaipur|     Samsung|    iOS|                  1.7|      33.2|                    208.8|                     121|                        3.0|                        3185|                     4.2|                  0.5|                       1046|Entertainment|                 102.0|\n| U00016| 52|  Male|Bangalore|Google Pixel|Android|                  5.1|      28.5|                    169.2|                     161|                        4.6|                        6175|                     4.4|                  4.3|                       1769|         Work|                 306.0|\n| U00017| 46| Other|   Mumbai|       Apple|Android|                  3.1|      23.6|                    153.9|                     183|                        2.5|                        6242|                     6.2|                  0.4|                       1679|    Education|                 186.0|\n| U00018| 54|  Male|  Kolkata|       Apple|Android|                 11.6|      12.6|                    210.4|                      62|                        4.9|                        4642|                     0.9|                  4.1|                       1360|Entertainment|                 696.0|\n| U00019| 50|Female|  Chennai|Google Pixel|Android|                  5.3|       5.2|                    235.6|                     188|                        4.6|                        1120|                     1.0|                  0.8|                       1639|         Work|                 318.0|\n| U00020| 40| Other|Hyderabad|    Motorola|    iOS|                  9.0|      38.9|                    289.6|                      62|                        2.4|                        8012|                     7.7|                  2.0|                       1224|         Work|                 540.0|\n| U00021| 60|  Male|     Pune|     Samsung|    iOS|                 10.4|      46.0|                     38.0|                     110|                        3.0|                         511|                     6.8|                  1.3|                        311| Social Media|                 624.0|\n| U00022| 59| Other|     Pune|      Xiaomi|Android|                 11.7|       9.1|                    203.9|                     101|                        5.8|                        2579|                     2.6|                  4.1|                        446|       Gaming|                 702.0|\n+-------+---+------+---------+------------+-------+---------------------+----------+-------------------------+------------------------+---------------------------+----------------------------+------------------------+---------------------+---------------------------+-------------+----------------------+\nonly showing top 20 rows\n\n"
     ]
    }
   ],
   "source": [
    "Data_age_grt.show()"
   ]
  },
  {
   "cell_type": "code",
   "execution_count": 0,
   "metadata": {
    "application/vnd.databricks.v1+cell": {
     "cellMetadata": {
      "byteLimit": 2048000,
      "rowLimit": 10000
     },
     "inputWidgets": {},
     "nuid": "596a28db-e7c1-4c45-85a4-1c8e06fafa4b",
     "showTitle": false,
     "tableResultSettingsMap": {},
     "title": ""
    }
   },
   "outputs": [],
   "source": [
    "df_removed_data = data.dropDuplicates()"
   ]
  },
  {
   "cell_type": "code",
   "execution_count": 0,
   "metadata": {
    "application/vnd.databricks.v1+cell": {
     "cellMetadata": {
      "byteLimit": 2048000,
      "rowLimit": 10000
     },
     "inputWidgets": {},
     "nuid": "a1bb7a26-db9f-4304-b713-d3734d01ebe0",
     "showTitle": false,
     "tableResultSettingsMap": {},
     "title": ""
    }
   },
   "outputs": [
    {
     "output_type": "stream",
     "name": "stdout",
     "output_type": "stream",
     "text": [
      "Out[58]: 17686"
     ]
    }
   ],
   "source": [
    "df_removed_data.count()"
   ]
  },
  {
   "cell_type": "code",
   "execution_count": 0,
   "metadata": {
    "application/vnd.databricks.v1+cell": {
     "cellMetadata": {
      "byteLimit": 2048000,
      "rowLimit": 10000
     },
     "inputWidgets": {},
     "nuid": "ddf4fb75-49a1-407d-a624-6ea9d520b8f1",
     "showTitle": false,
     "tableResultSettingsMap": {},
     "title": ""
    }
   },
   "outputs": [
    {
     "output_type": "stream",
     "name": "stdout",
     "output_type": "stream",
     "text": [
      "Out[59]: 17686"
     ]
    }
   ],
   "source": [
    "data.count()"
   ]
  },
  {
   "cell_type": "code",
   "execution_count": 0,
   "metadata": {
    "application/vnd.databricks.v1+cell": {
     "cellMetadata": {
      "byteLimit": 2048000,
      "rowLimit": 10000
     },
     "inputWidgets": {},
     "nuid": "9611ba90-52d8-4089-b602-f01ae8b62ec6",
     "showTitle": false,
     "tableResultSettingsMap": {},
     "title": ""
    }
   },
   "outputs": [
    {
     "output_type": "stream",
     "name": "stdout",
     "output_type": "stream",
     "text": [
      "+---+-------+---------+------+\n|Age|User ID| Location|Gender|\n+---+-------+---------+------+\n| 15| U00593|Hyderabad| Other|\n| 15| U01590|  Chennai| Other|\n| 15| U00623|Bangalore|Female|\n| 15| U00103|   Mumbai| Other|\n| 15| U00641|    Delhi| Other|\n| 15| U00118|   Jaipur| Other|\n| 15| U00684|     Pune|Female|\n| 15| U00249|  Kolkata| Other|\n| 15| U00770|   Mumbai| Other|\n| 15| U00461|  Lucknow|  Male|\n| 15| U00890|     Pune|  Male|\n| 15| U00527|    Delhi| Other|\n| 15| U00958|   Mumbai| Other|\n| 15| U01164|Hyderabad|Female|\n| 15| U01217|   Jaipur| Other|\n| 15| U00027|    Delhi|  Male|\n| 15| U01230|Hyderabad| Other|\n| 15| U00211|  Kolkata| Other|\n| 15| U01262|  Chennai|Female|\n| 15| U00471|    Delhi|  Male|\n+---+-------+---------+------+\nonly showing top 20 rows\n\n"
     ]
    }
   ],
   "source": [
    "data.orderBy('Age',ascending = True).select('Age','User ID',\"Location\",'Gender').show()"
   ]
  },
  {
   "cell_type": "code",
   "execution_count": 0,
   "metadata": {
    "application/vnd.databricks.v1+cell": {
     "cellMetadata": {
      "byteLimit": 2048000,
      "rowLimit": 10000
     },
     "inputWidgets": {},
     "nuid": "4ae319fb-1e28-4da7-a1cc-a8d2e6066421",
     "showTitle": false,
     "tableResultSettingsMap": {},
     "title": ""
    }
   },
   "outputs": [],
   "source": [
    "# rdd is smallest chunk of data "
   ]
  },
  {
   "cell_type": "code",
   "execution_count": 0,
   "metadata": {
    "application/vnd.databricks.v1+cell": {
     "cellMetadata": {
      "byteLimit": 2048000,
      "rowLimit": 10000
     },
     "inputWidgets": {},
     "nuid": "a40fb374-b08d-403b-ac9c-fd67e0dca9fc",
     "showTitle": false,
     "tableResultSettingsMap": {},
     "title": ""
    }
   },
   "outputs": [],
   "source": [
    "# resilient distributed dataset "
   ]
  },
  {
   "cell_type": "code",
   "execution_count": 0,
   "metadata": {
    "application/vnd.databricks.v1+cell": {
     "cellMetadata": {
      "byteLimit": 2048000,
      "rowLimit": 10000
     },
     "inputWidgets": {},
     "nuid": "a40eb2bf-90d5-4ae1-aa20-8eb4f3f7c8d4",
     "showTitle": false,
     "tableResultSettingsMap": {},
     "title": ""
    }
   },
   "outputs": [
    {
     "output_type": "stream",
     "name": "stdout",
     "output_type": "stream",
     "text": [
      "Out[64]: ['User ID',\n 'Age',\n 'Gender',\n 'Location',\n 'Phone Brand',\n 'OS',\n 'Screen Time (hrs/day)',\n 'Data Usage',\n 'Calls Duration (mins/day)',\n 'Number of Apps Installed',\n 'Social Media Time (hrs/day)',\n 'E-commerce Spend (INR/month)',\n 'Streaming Time (hrs/day)',\n 'Gaming Time (hrs/day)',\n 'Monthly Recharge Cost (INR)',\n 'Primary Use',\n 'Screen time in minutes']"
     ]
    }
   ],
   "source": [
    "data.columns "
   ]
  },
  {
   "cell_type": "code",
   "execution_count": 0,
   "metadata": {
    "application/vnd.databricks.v1+cell": {
     "cellMetadata": {
      "byteLimit": 2048000,
      "rowLimit": 10000
     },
     "inputWidgets": {},
     "nuid": "7815cc4f-bf1a-4770-8e0c-80397570c9ed",
     "showTitle": false,
     "tableResultSettingsMap": {},
     "title": ""
    }
   },
   "outputs": [],
   "source": [
    "data_location_droped = data.drop(\"Location\")"
   ]
  },
  {
   "cell_type": "code",
   "execution_count": 0,
   "metadata": {
    "application/vnd.databricks.v1+cell": {
     "cellMetadata": {
      "byteLimit": 2048000,
      "rowLimit": 10000
     },
     "inputWidgets": {},
     "nuid": "7ee853e7-1d52-4115-9eec-dd976587fe66",
     "showTitle": false,
     "tableResultSettingsMap": {},
     "title": ""
    }
   },
   "outputs": [
    {
     "output_type": "stream",
     "name": "stdout",
     "output_type": "stream",
     "text": [
      "Out[68]: ['User ID',\n 'Age',\n 'Gender',\n 'Phone Brand',\n 'OS',\n 'Screen Time (hrs/day)',\n 'Data Usage',\n 'Calls Duration (mins/day)',\n 'Number of Apps Installed',\n 'Social Media Time (hrs/day)',\n 'E-commerce Spend (INR/month)',\n 'Streaming Time (hrs/day)',\n 'Gaming Time (hrs/day)',\n 'Monthly Recharge Cost (INR)',\n 'Primary Use',\n 'Screen time in minutes']"
     ]
    }
   ],
   "source": [
    "data_location_droped.columns"
   ]
  },
  {
   "cell_type": "code",
   "execution_count": 0,
   "metadata": {
    "application/vnd.databricks.v1+cell": {
     "cellMetadata": {
      "byteLimit": 2048000,
      "rowLimit": 10000
     },
     "inputWidgets": {},
     "nuid": "8162eb20-62d9-47da-bed3-8a160426b39a",
     "showTitle": false,
     "tableResultSettingsMap": {},
     "title": ""
    }
   },
   "outputs": [],
   "source": [
    "# aggregation "
   ]
  },
  {
   "cell_type": "code",
   "execution_count": 0,
   "metadata": {
    "application/vnd.databricks.v1+cell": {
     "cellMetadata": {
      "byteLimit": 2048000,
      "rowLimit": 10000
     },
     "inputWidgets": {},
     "nuid": "5354fdc4-258d-4ffc-87ae-ab4f6334de3a",
     "showTitle": false,
     "tableResultSettingsMap": {},
     "title": ""
    }
   },
   "outputs": [
    {
     "output_type": "stream",
     "name": "stdout",
     "output_type": "stream",
     "text": [
      "Out[70]: 17686"
     ]
    }
   ],
   "source": [
    "data.count()"
   ]
  },
  {
   "cell_type": "code",
   "execution_count": 0,
   "metadata": {
    "application/vnd.databricks.v1+cell": {
     "cellMetadata": {
      "byteLimit": 2048000,
      "rowLimit": 10000
     },
     "inputWidgets": {},
     "nuid": "bb7d0156-e4fb-42a6-b404-8d6bbbf9c6a2",
     "showTitle": false,
     "tableResultSettingsMap": {},
     "title": ""
    }
   },
   "outputs": [
    {
     "output_type": "stream",
     "name": "stdout",
     "output_type": "stream",
     "text": [
      "+--------------------------+\n|sum(Screen Time (hrs/day))|\n+--------------------------+\n|        115779.19999999987|\n+--------------------------+\n\n"
     ]
    }
   ],
   "source": [
    "data.agg({\"Screen Time (hrs/day)\":\"sum\"}).show()"
   ]
  },
  {
   "cell_type": "code",
   "execution_count": 0,
   "metadata": {
    "application/vnd.databricks.v1+cell": {
     "cellMetadata": {
      "byteLimit": 2048000,
      "rowLimit": 10000
     },
     "inputWidgets": {},
     "nuid": "778fbae7-9b25-4ca3-9873-6f22e2716a77",
     "showTitle": false,
     "tableResultSettingsMap": {},
     "title": ""
    }
   },
   "outputs": [
    {
     "output_type": "stream",
     "name": "stdout",
     "output_type": "stream",
     "text": [
      "Out[73]: DataFrame[max(Screen Time (hrs/day)): double]"
     ]
    }
   ],
   "source": [
    "data.agg({\"Screen Time (hrs/day)\":\"max\"})"
   ]
  },
  {
   "cell_type": "code",
   "execution_count": 0,
   "metadata": {
    "application/vnd.databricks.v1+cell": {
     "cellMetadata": {
      "byteLimit": 2048000,
      "rowLimit": 10000
     },
     "inputWidgets": {},
     "nuid": "68c20bee-788f-494b-b04c-9c42b3d390ac",
     "showTitle": false,
     "tableResultSettingsMap": {},
     "title": ""
    }
   },
   "outputs": [
    {
     "output_type": "stream",
     "name": "stdout",
     "output_type": "stream",
     "text": [
      "+------------+\n| Phone Brand|\n+------------+\n|        Vivo|\n|      Realme|\n|       Nokia|\n|     Samsung|\n|      Xiaomi|\n|        Oppo|\n|       Apple|\n|      Realme|\n|        Oppo|\n|       Apple|\n|       Nokia|\n|        Oppo|\n|      Realme|\n|      Realme|\n|     Samsung|\n|Google Pixel|\n|       Apple|\n|       Apple|\n|Google Pixel|\n|    Motorola|\n+------------+\nonly showing top 20 rows\n\n"
     ]
    }
   ],
   "source": [
    "data.select(\"Phone Brand\").show()"
   ]
  },
  {
   "cell_type": "code",
   "execution_count": 0,
   "metadata": {
    "application/vnd.databricks.v1+cell": {
     "cellMetadata": {
      "byteLimit": 2048000,
      "rowLimit": 10000
     },
     "inputWidgets": {},
     "nuid": "740f1d1c-249c-4ab2-b2ca-128df4d54fa4",
     "showTitle": false,
     "tableResultSettingsMap": {},
     "title": ""
    }
   },
   "outputs": [
    {
     "output_type": "stream",
     "name": "stdout",
     "output_type": "stream",
     "text": [
      "+------------+--------------------------+\n| Phone Brand|avg(Screen Time (hrs/day))|\n+------------+--------------------------+\n|       Nokia|         6.613436123348007|\n|    Motorola|         6.557018054746651|\n|      Realme|         6.635754824063566|\n|      Xiaomi|         6.641874653355516|\n|        Oppo|         6.392948717948725|\n|     Samsung|         6.600963718820852|\n|     OnePlus|         6.545213060320976|\n|        Vivo|         6.511407902058977|\n|       Apple|         6.523042253521117|\n|Google Pixel|         6.432793522267206|\n+------------+--------------------------+\n\n"
     ]
    }
   ],
   "source": [
    "data.groupBy(\"Phone Brand\").avg(\"Screen Time (hrs/day)\").show()"
   ]
  },
  {
   "cell_type": "code",
   "execution_count": 0,
   "metadata": {
    "application/vnd.databricks.v1+cell": {
     "cellMetadata": {
      "byteLimit": 2048000,
      "rowLimit": 10000
     },
     "inputWidgets": {},
     "nuid": "4533982d-8298-4b40-9530-afab5a11cb7b",
     "showTitle": false,
     "tableResultSettingsMap": {},
     "title": ""
    }
   },
   "outputs": [
    {
     "output_type": "stream",
     "name": "stdout",
     "output_type": "stream",
     "text": [
      "+------------+------------------+\n| Phone Brand|          avg(Age)|\n+------------+------------------+\n|       Nokia|37.272577092511014|\n|    Motorola|38.044263249854396|\n|      Realme|37.701475595913735|\n|      Xiaomi|37.448696616749864|\n|        Oppo| 37.30769230769231|\n|     Samsung|37.678004535147394|\n|     OnePlus| 37.64748201438849|\n|        Vivo| 37.06956037840846|\n|       Apple|  37.5769014084507|\n|Google Pixel| 38.13186813186813|\n+------------+------------------+\n\n"
     ]
    }
   ],
   "source": [
    "data.groupBy(\"Phone Brand\").avg(\"Age\").show()"
   ]
  },
  {
   "cell_type": "code",
   "execution_count": 0,
   "metadata": {
    "application/vnd.databricks.v1+cell": {
     "cellMetadata": {
      "byteLimit": 2048000,
      "rowLimit": 10000
     },
     "inputWidgets": {},
     "nuid": "c07f48a8-b02d-4ae2-8ec3-05a5e5c1a6c9",
     "showTitle": false,
     "tableResultSettingsMap": {},
     "title": ""
    }
   },
   "outputs": [
    {
     "output_type": "stream",
     "name": "stdout",
     "output_type": "stream",
     "text": [
      "+------------+--------+\n| Phone Brand|max(Age)|\n+------------+--------+\n|       Nokia|      60|\n|    Motorola|      60|\n|      Realme|      60|\n|      Xiaomi|      60|\n|        Oppo|      60|\n|     Samsung|      60|\n|     OnePlus|      60|\n|        Vivo|      60|\n|       Apple|      60|\n|Google Pixel|      60|\n+------------+--------+\n\n"
     ]
    }
   ],
   "source": [
    "data.groupBy(\"Phone Brand\").max(\"Age\").show()"
   ]
  },
  {
   "cell_type": "code",
   "execution_count": 0,
   "metadata": {
    "application/vnd.databricks.v1+cell": {
     "cellMetadata": {
      "byteLimit": 2048000,
      "rowLimit": 10000
     },
     "inputWidgets": {},
     "nuid": "779cf275-2a27-4f7a-bbf8-5b7b09543802",
     "showTitle": false,
     "tableResultSettingsMap": {},
     "title": ""
    }
   },
   "outputs": [
    {
     "output_type": "stream",
     "name": "stdout",
     "output_type": "stream",
     "text": [
      "+------------+--------+\n| Phone Brand|min(Age)|\n+------------+--------+\n|       Nokia|      15|\n|    Motorola|      15|\n|      Realme|      15|\n|      Xiaomi|      15|\n|        Oppo|      15|\n|     Samsung|      15|\n|     OnePlus|      15|\n|        Vivo|      15|\n|       Apple|      15|\n|Google Pixel|      15|\n+------------+--------+\n\n"
     ]
    }
   ],
   "source": [
    "data.groupBy(\"Phone Brand\").min(\"Age\").show()"
   ]
  },
  {
   "cell_type": "code",
   "execution_count": 0,
   "metadata": {
    "application/vnd.databricks.v1+cell": {
     "cellMetadata": {
      "byteLimit": 2048000,
      "rowLimit": 10000
     },
     "inputWidgets": {},
     "nuid": "aa7aedce-1c3e-4669-a610-8ba61e4b0914",
     "showTitle": false,
     "tableResultSettingsMap": {},
     "title": ""
    }
   },
   "outputs": [
    {
     "output_type": "stream",
     "name": "stdout",
     "output_type": "stream",
     "text": [
      "+------+-----+\n|Gender|count|\n+------+-----+\n|Female| 5969|\n| Other| 5892|\n|  Male| 5825|\n+------+-----+\n\n"
     ]
    }
   ],
   "source": [
    "data.groupBy(\"Gender\").count().show()"
   ]
  },
  {
   "cell_type": "code",
   "execution_count": 0,
   "metadata": {
    "application/vnd.databricks.v1+cell": {
     "cellMetadata": {
      "byteLimit": 2048000,
      "rowLimit": 10000
     },
     "inputWidgets": {},
     "nuid": "c16b0e71-b67f-494f-be85-596c4ed2b7c8",
     "showTitle": false,
     "tableResultSettingsMap": {},
     "title": ""
    }
   },
   "outputs": [
    {
     "output_type": "stream",
     "name": "stdout",
     "output_type": "stream",
     "text": [
      "+------+------------------+\n|Gender|   avg(Data Usage)|\n+------+------------------+\n|Female|25.447026302563238|\n| Other| 25.43238289205704|\n|  Male|25.353236051502158|\n+------+------------------+\n\n"
     ]
    }
   ],
   "source": [
    "data.groupBy(\"Gender\").agg({\"Data Usage\":'avg'}).show()"
   ]
  },
  {
   "cell_type": "code",
   "execution_count": 0,
   "metadata": {
    "application/vnd.databricks.v1+cell": {
     "cellMetadata": {
      "byteLimit": 2048000,
      "rowLimit": 10000
     },
     "inputWidgets": {},
     "nuid": "6ff3081b-f247-4c32-8d02-89597c346bfb",
     "showTitle": false,
     "tableResultSettingsMap": {},
     "title": ""
    }
   },
   "outputs": [
    {
     "output_type": "stream",
     "name": "stdout",
     "output_type": "stream",
     "text": [
      "+------+------------------+\n|Gender|   avg(Data Usage)|\n+------+------------------+\n|Female|25.447026302563238|\n| Other| 25.43238289205704|\n|  Male|25.353236051502158|\n+------+------------------+\n\n"
     ]
    }
   ],
   "source": [
    "data.groupBy(\"Gender\").agg({\"Data Usage\":'avg'}).filter(\"avg(`Data Usage`)>20\").show()"
   ]
  },
  {
   "cell_type": "code",
   "execution_count": 0,
   "metadata": {
    "application/vnd.databricks.v1+cell": {
     "cellMetadata": {
      "byteLimit": 2048000,
      "rowLimit": 10000
     },
     "inputWidgets": {},
     "nuid": "46068970-f41e-4113-a880-048799f1ef79",
     "showTitle": false,
     "tableResultSettingsMap": {},
     "title": ""
    }
   },
   "outputs": [
    {
     "output_type": "stream",
     "name": "stdout",
     "output_type": "stream",
     "text": [
      "+-------+-----+\n|     OS|count|\n+-------+-----+\n|    iOS| 8835|\n|Android| 8851|\n+-------+-----+\n\n"
     ]
    }
   ],
   "source": [
    "data.groupby(\"OS\").count().show()"
   ]
  },
  {
   "cell_type": "code",
   "execution_count": 0,
   "metadata": {
    "application/vnd.databricks.v1+cell": {
     "cellMetadata": {
      "byteLimit": 2048000,
      "rowLimit": 10000
     },
     "inputWidgets": {},
     "nuid": "1a3ad971-91c0-4b7a-8440-1f3f2adef6f7",
     "showTitle": false,
     "tableResultSettingsMap": {},
     "title": ""
    }
   },
   "outputs": [
    {
     "output_type": "stream",
     "name": "stdout",
     "output_type": "stream",
     "text": [
      "+-------+--------------------------+------------------+\n|     OS|sum(Screen Time (hrs/day))|   avg(Data Usage)|\n+-------+--------------------------+------------------+\n|    iOS|        57711.800000000156|25.262954159592535|\n|Android|         58067.40000000017| 25.55929273528403|\n+-------+--------------------------+------------------+\n\n"
     ]
    }
   ],
   "source": [
    "data.groupby(\"OS\").agg({\"Screen Time (hrs/day)\":'sum',\"Data Usage\":'avg'}).show()"
   ]
  },
  {
   "cell_type": "code",
   "execution_count": 0,
   "metadata": {
    "application/vnd.databricks.v1+cell": {
     "cellMetadata": {
      "byteLimit": 2048000,
      "rowLimit": 10000
     },
     "inputWidgets": {},
     "nuid": "1e40863d-52c1-4ddf-be18-2e79e2a798f9",
     "showTitle": false,
     "tableResultSettingsMap": {},
     "title": ""
    }
   },
   "outputs": [],
   "source": [
    "from pyspark.sql.functions import stddev,variance"
   ]
  },
  {
   "cell_type": "code",
   "execution_count": 0,
   "metadata": {
    "application/vnd.databricks.v1+cell": {
     "cellMetadata": {
      "byteLimit": 2048000,
      "rowLimit": 10000
     },
     "inputWidgets": {},
     "nuid": "ecd57ead-826c-4acf-83fc-9b8a9cfd1cab",
     "showTitle": false,
     "tableResultSettingsMap": {},
     "title": ""
    }
   },
   "outputs": [
    {
     "output_type": "stream",
     "name": "stdout",
     "output_type": "stream",
     "text": [
      "+------------------+\n|  stddev_samp(age)|\n+------------------+\n|13.338251788617113|\n+------------------+\n\n"
     ]
    }
   ],
   "source": [
    "data.select(stddev(\"age\")).show()"
   ]
  },
  {
   "cell_type": "code",
   "execution_count": 0,
   "metadata": {
    "application/vnd.databricks.v1+cell": {
     "cellMetadata": {
      "byteLimit": 2048000,
      "rowLimit": 10000
     },
     "inputWidgets": {},
     "nuid": "8d81b2e6-ff07-4345-908a-aa61485b5abe",
     "showTitle": false,
     "tableResultSettingsMap": {},
     "title": ""
    }
   },
   "outputs": [
    {
     "output_type": "stream",
     "name": "stdout",
     "output_type": "stream",
     "text": [
      "+------------------+\n|     var_samp(age)|\n+------------------+\n|177.90896077654762|\n+------------------+\n\n"
     ]
    }
   ],
   "source": [
    "data.select(variance(\"age\")).show()"
   ]
  },
  {
   "cell_type": "code",
   "execution_count": 0,
   "metadata": {
    "application/vnd.databricks.v1+cell": {
     "cellMetadata": {
      "byteLimit": 2048000,
      "rowLimit": 10000
     },
     "inputWidgets": {},
     "nuid": "c652952b-adc9-4252-9438-68b962d222e3",
     "showTitle": false,
     "tableResultSettingsMap": {},
     "title": ""
    }
   },
   "outputs": [],
   "source": [
    "from pyspark.sql.functions import concat,upper,lower,length"
   ]
  },
  {
   "cell_type": "code",
   "execution_count": 0,
   "metadata": {
    "application/vnd.databricks.v1+cell": {
     "cellMetadata": {
      "byteLimit": 2048000,
      "rowLimit": 10000
     },
     "inputWidgets": {},
     "nuid": "51fa9d30-8402-4c66-8001-29761d5fb04a",
     "showTitle": false,
     "tableResultSettingsMap": {},
     "title": ""
    }
   },
   "outputs": [
    {
     "output_type": "stream",
     "name": "stdout",
     "output_type": "stream",
     "text": [
      "+-------+---+------+---------+------------+-------+---------------------+----------+-------------------------+------------------------+---------------------------+----------------------------+------------------------+---------------------+---------------------------+-------------+----------------------+------------+\n|User ID|Age|Gender| Location| Phone Brand|     OS|Screen Time (hrs/day)|Data Usage|Calls Duration (mins/day)|Number of Apps Installed|Social Media Time (hrs/day)|E-commerce Spend (INR/month)|Streaming Time (hrs/day)|Gaming Time (hrs/day)|Monthly Recharge Cost (INR)|  Primary Use|Screen time in minutes|     new col|\n+-------+---+------+---------+------------+-------+---------------------+----------+-------------------------+------------------------+---------------------------+----------------------------+------------------------+---------------------+---------------------------+-------------+----------------------+------------+\n| U00001| 53|  Male|   Mumbai|        Vivo|Android|                  3.7|      23.9|                     37.9|                     104|                        3.9|                         469|                     5.2|                  4.1|                        803|    Education|                 222.0|  U00001Male|\n| U00002| 60| Other|    Delhi|      Realme|    iOS|                  9.2|      28.1|                     13.7|                     169|                        2.8|                        4997|                     5.1|                  0.4|                       1526|       Gaming|                 552.0| U00002Other|\n| U00003| 37|Female|Ahmedabad|       Nokia|Android|                  4.5|      12.3|                     66.8|                      96|                        3.0|                        2381|                     1.7|                  2.9|                       1619|Entertainment|                 270.0|U00003Female|\n| U00004| 32|  Male|     Pune|     Samsung|Android|                 11.0|      25.6|                    156.2|                     146|                        5.2|                        1185|                     3.2|                  0.3|                       1560|Entertainment|                 660.0|  U00004Male|\n| U00005| 16|  Male|   Mumbai|      Xiaomi|    iOS|                  2.2|       2.5|                    236.2|                      86|                        5.5|                         106|                     3.4|                  2.3|                        742| Social Media|                 132.0|  U00005Male|\n| U00006| 21|  Male|   Jaipur|        Oppo|    iOS|                  5.4|      10.6|                    210.6|                      25|                        4.2|                        6285|                     0.6|                  4.8|                       1749|Entertainment|                 324.0|  U00006Male|\n| U00007| 57|Female|  Lucknow|       Apple|    iOS|                  6.0|      35.2|                    154.5|                     123|                        0.8|                        2653|                     2.9|                  2.3|                       1073| Social Media|                 360.0|U00007Female|\n| U00008| 56| Other|  Kolkata|      Realme|    iOS|                  3.1|      43.5|                    125.3|                     188|                        2.3|                        9767|                     5.2|                  5.0|                       1136|Entertainment|                 186.0| U00008Other|\n| U00009| 46|Female|  Kolkata|        Oppo|Android|                  5.3|      46.4|                     21.3|                     194|                        3.7|                        2870|                     6.1|                  2.8|                       1253|Entertainment|                 318.0|U00009Female|\n| U00010| 44| Other|  Kolkata|       Apple|    iOS|                  9.9|      10.6|                    180.2|                      84|                        4.8|                        9193|                     7.6|                  0.4|                        168|    Education|                 594.0| U00010Other|\n| U00011| 55| Other|  Lucknow|       Nokia|Android|                  1.6|      23.7|                    192.0|                      27|                        3.1|                        9330|                     1.2|                  2.3|                       1098|         Work|                  96.0| U00011Other|\n| U00012| 41|Female|    Delhi|        Oppo|Android|                  7.5|      23.5|                     84.9|                     187|                        0.9|                         643|                     3.5|                  2.7|                        151| Social Media|                 450.0|U00012Female|\n| U00013| 53|  Male|Bangalore|      Realme|    iOS|                 10.5|       1.4|                     33.7|                     137|                        4.5|                        7854|                     7.2|                  1.4|                        240|    Education|                 630.0|  U00013Male|\n| U00014| 35|  Male|   Jaipur|      Realme|Android|                 10.3|      32.4|                    247.1|                     124|                        5.2|                        3347|                     3.8|                  4.5|                        972| Social Media|                 618.0|  U00014Male|\n| U00015| 33|Female|   Jaipur|     Samsung|    iOS|                  1.7|      33.2|                    208.8|                     121|                        3.0|                        3185|                     4.2|                  0.5|                       1046|Entertainment|                 102.0|U00015Female|\n| U00016| 52|  Male|Bangalore|Google Pixel|Android|                  5.1|      28.5|                    169.2|                     161|                        4.6|                        6175|                     4.4|                  4.3|                       1769|         Work|                 306.0|  U00016Male|\n| U00017| 46| Other|   Mumbai|       Apple|Android|                  3.1|      23.6|                    153.9|                     183|                        2.5|                        6242|                     6.2|                  0.4|                       1679|    Education|                 186.0| U00017Other|\n| U00018| 54|  Male|  Kolkata|       Apple|Android|                 11.6|      12.6|                    210.4|                      62|                        4.9|                        4642|                     0.9|                  4.1|                       1360|Entertainment|                 696.0|  U00018Male|\n| U00019| 50|Female|  Chennai|Google Pixel|Android|                  5.3|       5.2|                    235.6|                     188|                        4.6|                        1120|                     1.0|                  0.8|                       1639|         Work|                 318.0|U00019Female|\n| U00020| 40| Other|Hyderabad|    Motorola|    iOS|                  9.0|      38.9|                    289.6|                      62|                        2.4|                        8012|                     7.7|                  2.0|                       1224|         Work|                 540.0| U00020Other|\n+-------+---+------+---------+------------+-------+---------------------+----------+-------------------------+------------------------+---------------------------+----------------------------+------------------------+---------------------+---------------------------+-------------+----------------------+------------+\nonly showing top 20 rows\n\n"
     ]
    }
   ],
   "source": [
    "data.withColumn(\"new col\",concat(data['User ID'],data['Gender'])).show()"
   ]
  },
  {
   "cell_type": "code",
   "execution_count": 0,
   "metadata": {
    "application/vnd.databricks.v1+cell": {
     "cellMetadata": {
      "byteLimit": 2048000,
      "rowLimit": 10000
     },
     "inputWidgets": {},
     "nuid": "1813f5c1-c94f-4446-b14d-3d6e42ff2979",
     "showTitle": false,
     "tableResultSettingsMap": {},
     "title": ""
    }
   },
   "outputs": [
    {
     "output_type": "stream",
     "name": "stdout",
     "output_type": "stream",
     "text": [
      "+------+\n|Gender|\n+------+\n|  Male|\n| Other|\n|Female|\n|  Male|\n|  Male|\n|  Male|\n|Female|\n| Other|\n|Female|\n| Other|\n| Other|\n|Female|\n|  Male|\n|  Male|\n|Female|\n|  Male|\n| Other|\n|  Male|\n|Female|\n| Other|\n+------+\nonly showing top 20 rows\n\n"
     ]
    }
   ],
   "source": [
    "data.select(\"Gender\").show()"
   ]
  },
  {
   "cell_type": "code",
   "execution_count": 0,
   "metadata": {
    "application/vnd.databricks.v1+cell": {
     "cellMetadata": {
      "byteLimit": 2048000,
      "rowLimit": 10000
     },
     "inputWidgets": {},
     "nuid": "52399629-7e1d-437e-bcd7-aa7f7a9634fe",
     "showTitle": false,
     "tableResultSettingsMap": {},
     "title": ""
    }
   },
   "outputs": [
    {
     "output_type": "stream",
     "name": "stdout",
     "output_type": "stream",
     "text": [
      "+------------+------+\n|gender_upper|Gender|\n+------------+------+\n|        MALE|  Male|\n|       OTHER| Other|\n|      FEMALE|Female|\n|        MALE|  Male|\n|        MALE|  Male|\n|        MALE|  Male|\n|      FEMALE|Female|\n|       OTHER| Other|\n|      FEMALE|Female|\n|       OTHER| Other|\n|       OTHER| Other|\n|      FEMALE|Female|\n|        MALE|  Male|\n|        MALE|  Male|\n|      FEMALE|Female|\n|        MALE|  Male|\n|       OTHER| Other|\n|        MALE|  Male|\n|      FEMALE|Female|\n|       OTHER| Other|\n+------------+------+\nonly showing top 20 rows\n\n"
     ]
    }
   ],
   "source": [
    "data.withColumn(\"gender_upper\",upper(\"Gender\")).select(\"gender_upper\",\"Gender\").show()"
   ]
  },
  {
   "cell_type": "code",
   "execution_count": 0,
   "metadata": {
    "application/vnd.databricks.v1+cell": {
     "cellMetadata": {
      "byteLimit": 2048000,
      "rowLimit": 10000
     },
     "inputWidgets": {},
     "nuid": "3bf55f04-4fe5-498f-b690-067a5d0859dd",
     "showTitle": false,
     "tableResultSettingsMap": {},
     "title": ""
    }
   },
   "outputs": [
    {
     "output_type": "stream",
     "name": "stdout",
     "output_type": "stream",
     "text": [
      "+------------+------+\n|gender_upper|Gender|\n+------------+------+\n|        male|  Male|\n|       other| Other|\n|      female|Female|\n|        male|  Male|\n|        male|  Male|\n|        male|  Male|\n|      female|Female|\n|       other| Other|\n|      female|Female|\n|       other| Other|\n|       other| Other|\n|      female|Female|\n|        male|  Male|\n|        male|  Male|\n|      female|Female|\n|        male|  Male|\n|       other| Other|\n|        male|  Male|\n|      female|Female|\n|       other| Other|\n+------------+------+\nonly showing top 20 rows\n\n"
     ]
    }
   ],
   "source": [
    "data.withColumn(\"gender_upper\",lower(\"Gender\")).select(\"gender_upper\",\"Gender\").show()"
   ]
  },
  {
   "cell_type": "code",
   "execution_count": 0,
   "metadata": {
    "application/vnd.databricks.v1+cell": {
     "cellMetadata": {
      "byteLimit": 2048000,
      "rowLimit": 10000
     },
     "inputWidgets": {},
     "nuid": "a8a95800-b5d4-44c7-9d7b-8f4fb507c526",
     "showTitle": false,
     "tableResultSettingsMap": {},
     "title": ""
    }
   },
   "outputs": [
    {
     "output_type": "stream",
     "name": "stdout",
     "output_type": "stream",
     "text": [
      "+-------------+------+\n|gender_length|Gender|\n+-------------+------+\n|            4|  Male|\n|            5| Other|\n|            6|Female|\n|            4|  Male|\n|            4|  Male|\n|            4|  Male|\n|            6|Female|\n|            5| Other|\n|            6|Female|\n|            5| Other|\n|            5| Other|\n|            6|Female|\n|            4|  Male|\n|            4|  Male|\n|            6|Female|\n|            4|  Male|\n|            5| Other|\n|            4|  Male|\n|            6|Female|\n|            5| Other|\n+-------------+------+\nonly showing top 20 rows\n\n"
     ]
    }
   ],
   "source": [
    "data.withColumn(\"gender_length\",length(\"Gender\")).select(\"gender_length\",\"Gender\").show()"
   ]
  },
  {
   "cell_type": "code",
   "execution_count": 0,
   "metadata": {
    "application/vnd.databricks.v1+cell": {
     "cellMetadata": {
      "byteLimit": 2048000,
      "rowLimit": 10000
     },
     "inputWidgets": {},
     "nuid": "15f7be30-2a37-4f49-a5b2-1a670bb38c90",
     "showTitle": false,
     "tableResultSettingsMap": {},
     "title": ""
    }
   },
   "outputs": [],
   "source": [
    " from pyspark.sql.functions import current_date,current_timestamp,date_add,date_sub  "
   ]
  },
  {
   "cell_type": "code",
   "execution_count": 0,
   "metadata": {
    "application/vnd.databricks.v1+cell": {
     "cellMetadata": {
      "byteLimit": 2048000,
      "rowLimit": 10000
     },
     "inputWidgets": {},
     "nuid": "033da565-a95f-4db8-b496-9081df872af6",
     "showTitle": false,
     "tableResultSettingsMap": {},
     "title": ""
    }
   },
   "outputs": [
    {
     "output_type": "stream",
     "name": "stdout",
     "output_type": "stream",
     "text": [
      "Out[112]: Column<'current_date()'>"
     ]
    }
   ],
   "source": [
    "current_date()"
   ]
  },
  {
   "cell_type": "code",
   "execution_count": 0,
   "metadata": {
    "application/vnd.databricks.v1+cell": {
     "cellMetadata": {
      "byteLimit": 2048000,
      "rowLimit": 10000
     },
     "inputWidgets": {},
     "nuid": "4b231b98-9a18-4ecc-bf6d-37a954c233da",
     "showTitle": false,
     "tableResultSettingsMap": {},
     "title": ""
    }
   },
   "outputs": [
    {
     "output_type": "stream",
     "name": "stdout",
     "output_type": "stream",
     "text": [
      "+------------+\n|current date|\n+------------+\n|  2025-01-22|\n|  2025-01-22|\n|  2025-01-22|\n|  2025-01-22|\n|  2025-01-22|\n|  2025-01-22|\n|  2025-01-22|\n|  2025-01-22|\n|  2025-01-22|\n|  2025-01-22|\n|  2025-01-22|\n|  2025-01-22|\n|  2025-01-22|\n|  2025-01-22|\n|  2025-01-22|\n|  2025-01-22|\n|  2025-01-22|\n|  2025-01-22|\n|  2025-01-22|\n|  2025-01-22|\n+------------+\nonly showing top 20 rows\n\n"
     ]
    }
   ],
   "source": [
    "data.withColumn(\"current date\",current_date()).select(\"current date\").show()"
   ]
  },
  {
   "cell_type": "code",
   "execution_count": 0,
   "metadata": {
    "application/vnd.databricks.v1+cell": {
     "cellMetadata": {
      "byteLimit": 2048000,
      "rowLimit": 10000
     },
     "inputWidgets": {},
     "nuid": "fa47e6a1-94f8-4b7b-8d05-45a055f43aa7",
     "showTitle": false,
     "tableResultSettingsMap": {},
     "title": ""
    }
   },
   "outputs": [
    {
     "output_type": "stream",
     "name": "stdout",
     "output_type": "stream",
     "text": [
      "+-----------+\n|future_date|\n+-----------+\n| 2025-02-01|\n| 2025-02-01|\n| 2025-02-01|\n| 2025-02-01|\n| 2025-02-01|\n| 2025-02-01|\n| 2025-02-01|\n| 2025-02-01|\n| 2025-02-01|\n| 2025-02-01|\n| 2025-02-01|\n| 2025-02-01|\n| 2025-02-01|\n| 2025-02-01|\n| 2025-02-01|\n| 2025-02-01|\n| 2025-02-01|\n| 2025-02-01|\n| 2025-02-01|\n| 2025-02-01|\n+-----------+\nonly showing top 20 rows\n\n"
     ]
    }
   ],
   "source": [
    " data.withColumn(\"future_date\",date_add(current_date(),10)).select(\"future_date\").show()"
   ]
  },
  {
   "cell_type": "code",
   "execution_count": 0,
   "metadata": {
    "application/vnd.databricks.v1+cell": {
     "cellMetadata": {},
     "inputWidgets": {},
     "nuid": "0087c23d-604e-4fca-9dd6-0e029ff57b11",
     "showTitle": false,
     "tableResultSettingsMap": {},
     "title": ""
    }
   },
   "outputs": [],
   "source": []
  }
 ],
 "metadata": {
  "application/vnd.databricks.v1+notebook": {
   "computePreferences": null,
   "dashboards": [],
   "environmentMetadata": {
    "base_environment": "",
    "client": "1"
   },
   "language": "python",
   "notebookMetadata": {
    "pythonIndentUnit": 4
   },
   "notebookName": "12 jan spark",
   "widgets": {}
  }
 },
 "nbformat": 4,
 "nbformat_minor": 0
}
